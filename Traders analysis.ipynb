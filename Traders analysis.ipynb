{
 "cells": [
  {
   "cell_type": "markdown",
   "metadata": {
    "_uuid": "5145510d39210ae7ac95cb4bc865b9522ff7af99",
    "collapsed": true
   },
   "source": [
    "## In this brief technical analysis I used both Python and SQL interchangibly to display my skills in the both instruments. The same way I used both the English and Russian languages."
   ]
  },
  {
   "cell_type": "markdown",
   "metadata": {
    "_uuid": "0254f41f8b6023b1dfad147a16423061d555413c"
   },
   "source": [
    "**1. Проанализировать дата сеты на взаимосвязь суммы депозитов и идентификаторов маркетинговых источников закупки траффика (traffic_source_id)**\n",
    "\n",
    "Цель задания - на основе данных по сумме депозитов определить эффективность идентификаторов маркетинговых источников. Так как юзеры могут отличаться друг от друга в стоимости их привлечения, важно не общее количество привлеченных юзеров (количество депозитов) идентификатором,  а усредненная сумма депозитов на каждый уникальный идентификатор маркетингового источника. \n",
    "\n",
    "1) Поиск и удаление выбросов (outliers)\n",
    "\n",
    "2) Рассчитать среднюю сумму депозитов на каждый уникальный traffic_source_id:\n",
    "Суммируем deposit_sum на каждый уникальный traffic_source_id и делим это число на количество уникальных user_id привлеченных этим traffic_source_id (согласно витрине данных индивидуальный юзер может иметь несколько депозитов)."
   ]
  },
  {
   "cell_type": "code",
   "execution_count": 1,
   "metadata": {
    "_cell_guid": "b1076dfc-b9ad-4769-8c92-a6c4dae69d19",
    "_uuid": "8f2839f25d086af736a60e9eeb907d3b93b6e0e5"
   },
   "outputs": [
    {
     "name": "stdout",
     "output_type": "stream",
     "text": [
      "['tt_deposits.csv', 'tt_real_deals.csv']\n"
     ]
    }
   ],
   "source": [
    "import numpy as np \n",
    "import pandas as pd \n",
    "import matplotlib\n",
    "%matplotlib inline\n",
    "import matplotlib.pyplot as plt\n",
    "import sqlite3\n",
    "import seaborn as sns\n",
    "\n",
    "import os\n",
    "print(os.listdir(\"../input\"))"
   ]
  },
  {
   "cell_type": "code",
   "execution_count": 2,
   "metadata": {
    "_cell_guid": "79c7e3d0-c299-4dcb-8224-4455121ee9b0",
    "_uuid": "d629ff2d2480ee46fbb7e2d37f6b5fab8052498a"
   },
   "outputs": [
    {
     "name": "stdout",
     "output_type": "stream",
     "text": [
      "132\n",
      "(1728, 8)\n",
      "726\n"
     ]
    },
    {
     "data": {
      "text/html": [
       "<div>\n",
       "<style scoped>\n",
       "    .dataframe tbody tr th:only-of-type {\n",
       "        vertical-align: middle;\n",
       "    }\n",
       "\n",
       "    .dataframe tbody tr th {\n",
       "        vertical-align: top;\n",
       "    }\n",
       "\n",
       "    .dataframe thead th {\n",
       "        text-align: right;\n",
       "    }\n",
       "</style>\n",
       "<table border=\"1\" class=\"dataframe\">\n",
       "  <thead>\n",
       "    <tr style=\"text-align: right;\">\n",
       "      <th></th>\n",
       "      <th>user_id</th>\n",
       "      <th>deposit_sum</th>\n",
       "      <th>deposit_date</th>\n",
       "      <th>deposit_platform</th>\n",
       "      <th>traffic_source_id</th>\n",
       "      <th>country</th>\n",
       "      <th>registration_platform</th>\n",
       "      <th>registration_date</th>\n",
       "    </tr>\n",
       "  </thead>\n",
       "  <tbody>\n",
       "    <tr>\n",
       "      <th>1304</th>\n",
       "      <td>152142166</td>\n",
       "      <td>42</td>\n",
       "      <td>2017-09-01 00:24:00</td>\n",
       "      <td>Web</td>\n",
       "      <td>38997</td>\n",
       "      <td>Argentina</td>\n",
       "      <td>Web</td>\n",
       "      <td>2017-09-01 00:18:22</td>\n",
       "    </tr>\n",
       "    <tr>\n",
       "      <th>1305</th>\n",
       "      <td>152142166</td>\n",
       "      <td>14</td>\n",
       "      <td>2017-09-01 00:39:09</td>\n",
       "      <td>Web</td>\n",
       "      <td>38997</td>\n",
       "      <td>Argentina</td>\n",
       "      <td>Web</td>\n",
       "      <td>2017-09-01 00:18:22</td>\n",
       "    </tr>\n",
       "    <tr>\n",
       "      <th>1306</th>\n",
       "      <td>152144268</td>\n",
       "      <td>7</td>\n",
       "      <td>2017-09-01 01:45:57</td>\n",
       "      <td>Web</td>\n",
       "      <td>38977</td>\n",
       "      <td>Brazil</td>\n",
       "      <td>Web</td>\n",
       "      <td>2017-09-01 01:40:50</td>\n",
       "    </tr>\n",
       "    <tr>\n",
       "      <th>1307</th>\n",
       "      <td>152144754</td>\n",
       "      <td>5</td>\n",
       "      <td>2017-09-01 02:55:50</td>\n",
       "      <td>Ios</td>\n",
       "      <td>285</td>\n",
       "      <td>Brazil</td>\n",
       "      <td>Ios</td>\n",
       "      <td>2017-09-01 02:53:22</td>\n",
       "    </tr>\n",
       "    <tr>\n",
       "      <th>1308</th>\n",
       "      <td>152145436</td>\n",
       "      <td>6</td>\n",
       "      <td>2017-09-01 03:21:53</td>\n",
       "      <td>Android</td>\n",
       "      <td>27278</td>\n",
       "      <td>Indonesia</td>\n",
       "      <td>Android</td>\n",
       "      <td>2017-09-01 03:11:02</td>\n",
       "    </tr>\n",
       "  </tbody>\n",
       "</table>\n",
       "</div>"
      ],
      "text/plain": [
       "        user_id         ...             registration_date\n",
       "1304  152142166         ...           2017-09-01 00:18:22\n",
       "1305  152142166         ...           2017-09-01 00:18:22\n",
       "1306  152144268         ...           2017-09-01 01:40:50\n",
       "1307  152144754         ...           2017-09-01 02:53:22\n",
       "1308  152145436         ...           2017-09-01 03:11:02\n",
       "\n",
       "[5 rows x 8 columns]"
      ]
     },
     "execution_count": 2,
     "metadata": {},
     "output_type": "execute_result"
    }
   ],
   "source": [
    "deposits = pd.read_csv('tt_deposits.csv')\n",
    "deposits.sort_values('deposit_date', inplace=True)\n",
    "\n",
    "print(deposits.traffic_source_id.nunique())\n",
    "print(deposits.shape)\n",
    "print(deposits.user_id.nunique())\n",
    "\n",
    "deposits.head()"
   ]
  },
  {
   "cell_type": "markdown",
   "metadata": {
    "_uuid": "cdac4f659aeab42de7eaa879b5aee6812c239271"
   },
   "source": [
    "**1. Dealing with outliers (выбросы)**\n"
   ]
  },
  {
   "cell_type": "code",
   "execution_count": 3,
   "metadata": {
    "_uuid": "a0fe11d81ce762c51209b7e86ee6efd44aa1c532"
   },
   "outputs": [
    {
     "data": {
      "text/plain": [
       "<matplotlib.axes._subplots.AxesSubplot at 0x7f08476b74e0>"
      ]
     },
     "execution_count": 3,
     "metadata": {},
     "output_type": "execute_result"
    },
    {
     "data": {
      "image/png": "[encoded data removed]",
      "text/plain": [
       "<matplotlib.figure.Figure at 0x7f084773efd0>"
      ]
     },
     "metadata": {},
     "output_type": "display_data"
    }
   ],
   "source": [
    "# The diagram is very skewed. We will try to normalize it a bit by removing outliers in the next step using IQR method\n",
    "deposits.deposit_sum.plot(kind='hist', bins=100, legend=True)"
   ]
  },
  {
   "cell_type": "code",
   "execution_count": 4,
   "metadata": {
    "_uuid": "b19a27365a9e213d57da39815467760e84c80ef8"
   },
   "outputs": [
    {
     "name": "stdout",
     "output_type": "stream",
     "text": [
      "0.25     7.0\n",
      "0.50     7.0\n",
      "0.75    22.0\n",
      "Name: deposit_sum, dtype: float64\n",
      "(1558, 8)\n"
     ]
    },
    {
     "data": {
      "image/png": "[encoded data removed]",
      "text/plain": [
       "<matplotlib.figure.Figure at 0x7f0847518908>"
      ]
     },
     "metadata": {},
     "output_type": "display_data"
    }
   ],
   "source": [
    "# using IQR method\n",
    "print(deposits.deposit_sum.quantile([0.25, 0.5, 0.75]))\n",
    "IQR = 22 - 7\n",
    "lower = 7-1.5*IQR\n",
    "upper = 22+1.5*IQR\n",
    "deposits = deposits[deposits.deposit_sum<=upper]\n",
    "deposits.deposit_sum.plot(kind='hist', legend=True)\n",
    "print(deposits.shape)"
   ]
  },
  {
   "cell_type": "markdown",
   "metadata": {
    "_uuid": "581c44c1675e76bcef854bf960176563ae31bf87"
   },
   "source": [
    "**2. Определяем среднюю сумму депозитов на каждый уникальный traffic_source_id**"
   ]
  },
  {
   "cell_type": "code",
   "execution_count": 5,
   "metadata": {
    "_uuid": "d6feca1b4020fff8e70b67b433daa6d9bc3c9886"
   },
   "outputs": [
    {
     "data": {
      "text/html": [
       "<div>\n",
       "<style scoped>\n",
       "    .dataframe tbody tr th:only-of-type {\n",
       "        vertical-align: middle;\n",
       "    }\n",
       "\n",
       "    .dataframe tbody tr th {\n",
       "        vertical-align: top;\n",
       "    }\n",
       "\n",
       "    .dataframe thead th {\n",
       "        text-align: right;\n",
       "    }\n",
       "</style>\n",
       "<table border=\"1\" class=\"dataframe\">\n",
       "  <thead>\n",
       "    <tr style=\"text-align: right;\">\n",
       "      <th></th>\n",
       "      <th>mean_deposit_traffic</th>\n",
       "    </tr>\n",
       "    <tr>\n",
       "      <th>traffic_source_id</th>\n",
       "      <th></th>\n",
       "    </tr>\n",
       "  </thead>\n",
       "  <tbody>\n",
       "    <tr>\n",
       "      <th>7865</th>\n",
       "      <td>179</td>\n",
       "    </tr>\n",
       "    <tr>\n",
       "      <th>53947</th>\n",
       "      <td>179</td>\n",
       "    </tr>\n",
       "    <tr>\n",
       "      <th>49538</th>\n",
       "      <td>135</td>\n",
       "    </tr>\n",
       "    <tr>\n",
       "      <th>54021</th>\n",
       "      <td>117</td>\n",
       "    </tr>\n",
       "    <tr>\n",
       "      <th>54506</th>\n",
       "      <td>114</td>\n",
       "    </tr>\n",
       "  </tbody>\n",
       "</table>\n",
       "</div>"
      ],
      "text/plain": [
       "                   mean_deposit_traffic\n",
       "traffic_source_id                      \n",
       "7865                                179\n",
       "53947                               179\n",
       "49538                               135\n",
       "54021                               117\n",
       "54506                               114"
      ]
     },
     "execution_count": 5,
     "metadata": {},
     "output_type": "execute_result"
    }
   ],
   "source": [
    "# Using SQL\n",
    "conn = sqlite3.connect(\"depo.db\") \n",
    "deposits.to_sql('depos', conn, if_exists='replace', index=False) \n",
    "\n",
    "mean_depo = pd.read_sql(\"\"\"select sum(deposit_sum)/count(distinct user_id) as mean_deposit_traffic, \n",
    "traffic_source_id from depos group by traffic_source_id\n",
    "order by mean_deposit_traffic desc;\n",
    "                        \"\"\", conn, index_col='traffic_source_id')\n",
    "mean_depo.head()"
   ]
  },
  {
   "cell_type": "markdown",
   "metadata": {
    "_uuid": "adc53af845b64cff90bc8c6d42af7233dbe36966"
   },
   "source": [
    "## 2. Проанализировать трейдерскую активность пользователей в разрезе по стране пользователя\n",
    "\n",
    "Под понятием трейдерской активности мы подразумеваем общее количество уникальных пользователей, общую и среднюю сумму депозитов на страну\n",
    "1. Рассчитать количество уникальных пользователей на каждую страну\n",
    "2. Поиск и удаление выбросов по распределению частоты стран\n",
    "3. Рассчитать среднюю сумму депозитов на страну согласно количеству уникальных пользователей (один пользователь может иметь несколько депозитов)"
   ]
  },
  {
   "cell_type": "code",
   "execution_count": 6,
   "metadata": {
    "_uuid": "a72390006e414282f6c202ab987d2b5f05c836ad"
   },
   "outputs": [
    {
     "name": "stdout",
     "output_type": "stream",
     "text": [
      "81\n"
     ]
    },
    {
     "data": {
      "text/html": [
       "<div>\n",
       "<style scoped>\n",
       "    .dataframe tbody tr th:only-of-type {\n",
       "        vertical-align: middle;\n",
       "    }\n",
       "\n",
       "    .dataframe tbody tr th {\n",
       "        vertical-align: top;\n",
       "    }\n",
       "\n",
       "    .dataframe thead th {\n",
       "        text-align: right;\n",
       "    }\n",
       "</style>\n",
       "<table border=\"1\" class=\"dataframe\">\n",
       "  <thead>\n",
       "    <tr style=\"text-align: right;\">\n",
       "      <th></th>\n",
       "      <th>user_id</th>\n",
       "      <th>deposit_sum</th>\n",
       "      <th>deposit_date</th>\n",
       "      <th>deposit_platform</th>\n",
       "      <th>traffic_source_id</th>\n",
       "      <th>country</th>\n",
       "      <th>registration_platform</th>\n",
       "      <th>registration_date</th>\n",
       "    </tr>\n",
       "  </thead>\n",
       "  <tbody>\n",
       "    <tr>\n",
       "      <th>1304</th>\n",
       "      <td>152142166</td>\n",
       "      <td>42</td>\n",
       "      <td>2017-09-01 00:24:00</td>\n",
       "      <td>Web</td>\n",
       "      <td>38997</td>\n",
       "      <td>Argentina</td>\n",
       "      <td>Web</td>\n",
       "      <td>2017-09-01 00:18:22</td>\n",
       "    </tr>\n",
       "    <tr>\n",
       "      <th>1305</th>\n",
       "      <td>152142166</td>\n",
       "      <td>14</td>\n",
       "      <td>2017-09-01 00:39:09</td>\n",
       "      <td>Web</td>\n",
       "      <td>38997</td>\n",
       "      <td>Argentina</td>\n",
       "      <td>Web</td>\n",
       "      <td>2017-09-01 00:18:22</td>\n",
       "    </tr>\n",
       "    <tr>\n",
       "      <th>1306</th>\n",
       "      <td>152144268</td>\n",
       "      <td>7</td>\n",
       "      <td>2017-09-01 01:45:57</td>\n",
       "      <td>Web</td>\n",
       "      <td>38977</td>\n",
       "      <td>Brazil</td>\n",
       "      <td>Web</td>\n",
       "      <td>2017-09-01 01:40:50</td>\n",
       "    </tr>\n",
       "    <tr>\n",
       "      <th>1307</th>\n",
       "      <td>152144754</td>\n",
       "      <td>5</td>\n",
       "      <td>2017-09-01 02:55:50</td>\n",
       "      <td>Ios</td>\n",
       "      <td>285</td>\n",
       "      <td>Brazil</td>\n",
       "      <td>Ios</td>\n",
       "      <td>2017-09-01 02:53:22</td>\n",
       "    </tr>\n",
       "    <tr>\n",
       "      <th>1308</th>\n",
       "      <td>152145436</td>\n",
       "      <td>6</td>\n",
       "      <td>2017-09-01 03:21:53</td>\n",
       "      <td>Android</td>\n",
       "      <td>27278</td>\n",
       "      <td>Indonesia</td>\n",
       "      <td>Android</td>\n",
       "      <td>2017-09-01 03:11:02</td>\n",
       "    </tr>\n",
       "  </tbody>\n",
       "</table>\n",
       "</div>"
      ],
      "text/plain": [
       "        user_id         ...             registration_date\n",
       "1304  152142166         ...           2017-09-01 00:18:22\n",
       "1305  152142166         ...           2017-09-01 00:18:22\n",
       "1306  152144268         ...           2017-09-01 01:40:50\n",
       "1307  152144754         ...           2017-09-01 02:53:22\n",
       "1308  152145436         ...           2017-09-01 03:11:02\n",
       "\n",
       "[5 rows x 8 columns]"
      ]
     },
     "execution_count": 6,
     "metadata": {},
     "output_type": "execute_result"
    }
   ],
   "source": [
    "print(deposits.country.nunique())\n",
    "deposits.head()     "
   ]
  },
  {
   "cell_type": "markdown",
   "metadata": {
    "_uuid": "e656c439895a546a1f37c97005bdc6a396e53acd"
   },
   "source": [
    "**1. Рассчитать количество уникальных пользователей на каждую страну**"
   ]
  },
  {
   "cell_type": "code",
   "execution_count": 7,
   "metadata": {
    "_uuid": "2a04b8a77d214c4b70d8bb838131d96e59c5f698"
   },
   "outputs": [
    {
     "data": {
      "text/plain": [
       "country\n",
       "Czech Republic    1\n",
       "Ireland           1\n",
       "Panama            1\n",
       "Honduras          1\n",
       "Grenada           1\n",
       "Name: user_id, dtype: int64"
      ]
     },
     "execution_count": 7,
     "metadata": {},
     "output_type": "execute_result"
    }
   ],
   "source": [
    "# Существуют страны, имеющие малое количество уникальных пользователей \n",
    "# как в сравнительном так и в абсолютном плане. Для последующего анализа при подсчете средней суммы депозитов на \n",
    "# страну и уникального пользователя будет ненадежным включить страны, имеющих очень малое количество уникальных пользователей\n",
    "# Соответственно, мы очистим данные от таких стран в следующем этапе. \n",
    "users_country = deposits.groupby('country')['user_id'].nunique().sort_values()\n",
    "users_country.head()\n",
    "\n",
    "# В зависимости от стоимости уникального юзера, следует снизить либо увеличить присутствие в странах."
   ]
  },
  {
   "cell_type": "markdown",
   "metadata": {
    "_uuid": "bd3cac6f0acbee4f78b91fe5c7825b33c133cc05"
   },
   "source": [
    "**2. Поиск и удаление выбросов по частоте уникальных юзеров на страну**"
   ]
  },
  {
   "cell_type": "code",
   "execution_count": 8,
   "metadata": {
    "_uuid": "617d061fc2bf209bb96bbd40a4173fd0c8df0d8b"
   },
   "outputs": [
    {
     "data": {
      "text/html": [
       "<div>\n",
       "<style scoped>\n",
       "    .dataframe tbody tr th:only-of-type {\n",
       "        vertical-align: middle;\n",
       "    }\n",
       "\n",
       "    .dataframe tbody tr th {\n",
       "        vertical-align: top;\n",
       "    }\n",
       "\n",
       "    .dataframe thead th {\n",
       "        text-align: right;\n",
       "    }\n",
       "</style>\n",
       "<table border=\"1\" class=\"dataframe\">\n",
       "  <thead>\n",
       "    <tr style=\"text-align: right;\">\n",
       "      <th></th>\n",
       "      <th>user_id</th>\n",
       "      <th>deposit_sum</th>\n",
       "      <th>deposit_date</th>\n",
       "      <th>deposit_platform</th>\n",
       "      <th>traffic_source_id</th>\n",
       "      <th>country</th>\n",
       "      <th>registration_platform</th>\n",
       "      <th>registration_date</th>\n",
       "    </tr>\n",
       "  </thead>\n",
       "  <tbody>\n",
       "    <tr>\n",
       "      <th>1304</th>\n",
       "      <td>152142166</td>\n",
       "      <td>42</td>\n",
       "      <td>2017-09-01 00:24:00</td>\n",
       "      <td>Web</td>\n",
       "      <td>38997</td>\n",
       "      <td>Argentina</td>\n",
       "      <td>Web</td>\n",
       "      <td>2017-09-01 00:18:22</td>\n",
       "    </tr>\n",
       "    <tr>\n",
       "      <th>1305</th>\n",
       "      <td>152142166</td>\n",
       "      <td>14</td>\n",
       "      <td>2017-09-01 00:39:09</td>\n",
       "      <td>Web</td>\n",
       "      <td>38997</td>\n",
       "      <td>Argentina</td>\n",
       "      <td>Web</td>\n",
       "      <td>2017-09-01 00:18:22</td>\n",
       "    </tr>\n",
       "    <tr>\n",
       "      <th>1306</th>\n",
       "      <td>152144268</td>\n",
       "      <td>7</td>\n",
       "      <td>2017-09-01 01:45:57</td>\n",
       "      <td>Web</td>\n",
       "      <td>38977</td>\n",
       "      <td>Brazil</td>\n",
       "      <td>Web</td>\n",
       "      <td>2017-09-01 01:40:50</td>\n",
       "    </tr>\n",
       "    <tr>\n",
       "      <th>1307</th>\n",
       "      <td>152144754</td>\n",
       "      <td>5</td>\n",
       "      <td>2017-09-01 02:55:50</td>\n",
       "      <td>Ios</td>\n",
       "      <td>285</td>\n",
       "      <td>Brazil</td>\n",
       "      <td>Ios</td>\n",
       "      <td>2017-09-01 02:53:22</td>\n",
       "    </tr>\n",
       "    <tr>\n",
       "      <th>1308</th>\n",
       "      <td>152145436</td>\n",
       "      <td>6</td>\n",
       "      <td>2017-09-01 03:21:53</td>\n",
       "      <td>Android</td>\n",
       "      <td>27278</td>\n",
       "      <td>Indonesia</td>\n",
       "      <td>Android</td>\n",
       "      <td>2017-09-01 03:11:02</td>\n",
       "    </tr>\n",
       "  </tbody>\n",
       "</table>\n",
       "</div>"
      ],
      "text/plain": [
       "        user_id         ...             registration_date\n",
       "1304  152142166         ...           2017-09-01 00:18:22\n",
       "1305  152142166         ...           2017-09-01 00:18:22\n",
       "1306  152144268         ...           2017-09-01 01:40:50\n",
       "1307  152144754         ...           2017-09-01 02:53:22\n",
       "1308  152145436         ...           2017-09-01 03:11:02\n",
       "\n",
       "[5 rows x 8 columns]"
      ]
     },
     "execution_count": 8,
     "metadata": {},
     "output_type": "execute_result"
    }
   ],
   "source": [
    "# Оставим только страны, имеющие более 2 уникальных юзеров\n",
    "countries = pd.DataFrame(users_country>2).reset_index()\n",
    "countries = countries[countries['user_id']==True]\n",
    "clean_deposits = deposits[deposits.country.isin(countries.country)]\n",
    "clean_deposits.head()"
   ]
  },
  {
   "cell_type": "markdown",
   "metadata": {
    "_uuid": "7543e794fe0e374d84d6095f2abbdbcbbcc56535"
   },
   "source": [
    "**2. Рассчитать среднюю сумму депозитов на страну согласно количеству уникальных пользователей (один пользователь может иметь несколько депозитов)**"
   ]
  },
  {
   "cell_type": "code",
   "execution_count": 9,
   "metadata": {
    "_uuid": "681142a81e2cca95b867f5d855b783145477819e"
   },
   "outputs": [
    {
     "data": {
      "text/plain": [
       "country\n",
       "Kazakhstan      7.333333\n",
       "Azerbaijan      7.666667\n",
       "Serbia          9.750000\n",
       "Albania        13.000000\n",
       "Netherlands    13.333333\n",
       "dtype: float64"
      ]
     },
     "execution_count": 9,
     "metadata": {},
     "output_type": "execute_result"
    }
   ],
   "source": [
    "# Средняя сумма депозитов на страну\n",
    "users_per_country = clean_deposits.groupby('country')['user_id'].nunique()\n",
    "depos_per_country = clean_deposits.groupby('country')['deposit_sum'].sum()\n",
    "depo_users = depos_per_country/users_per_country\n",
    "depo_users.sort_values().head() "
   ]
  },
  {
   "cell_type": "markdown",
   "metadata": {
    "_uuid": "dd41e0fbff87e8f1c1441694ccf8ba688e6ac0cf"
   },
   "source": [
    "General trend is that countries with higher incomes tend to deposit more, while states with less income invest in smaller amount respectively. \n",
    "But this is not a linear trend, as there are solid amount of cases, where this pattern is not a case."
   ]
  },
  {
   "cell_type": "markdown",
   "metadata": {
    "_uuid": "b33c54e29b2d5382d886cc360728be9d50099725"
   },
   "source": [
    "## 3. Проанализировать трейдерскую активность пользователей отдельно в разрезе по идентификаторам актива (asset_id)\n",
    "Вопрос какие идентификаторы актива самые популярные, наименее популярные (количество уникальных юзеров)\n",
    "Какие идентификаторы актива приносят наибольшие сделки и наименьшие (deal_amount)\n",
    "\n",
    "\n",
    "1. Count gross amount of unique user_id per asset_id\n",
    "2. Average deal_amount per asset_id\n",
    "3. Average win_amount per asset_id\n"
   ]
  },
  {
   "cell_type": "code",
   "execution_count": 12,
   "metadata": {
    "_uuid": "9399a846335d3cbbc3ceef7c30e7e440191ceeba"
   },
   "outputs": [
    {
     "name": "stdout",
     "output_type": "stream",
     "text": [
      "54\n",
      "(68120, 7)\n",
      "512\n"
     ]
    },
    {
     "data": {
      "text/html": [
       "<div>\n",
       "<style scoped>\n",
       "    .dataframe tbody tr th:only-of-type {\n",
       "        vertical-align: middle;\n",
       "    }\n",
       "\n",
       "    .dataframe tbody tr th {\n",
       "        vertical-align: top;\n",
       "    }\n",
       "\n",
       "    .dataframe thead th {\n",
       "        text-align: right;\n",
       "    }\n",
       "</style>\n",
       "<table border=\"1\" class=\"dataframe\">\n",
       "  <thead>\n",
       "    <tr style=\"text-align: right;\">\n",
       "      <th></th>\n",
       "      <th>user_id</th>\n",
       "      <th>deal_amount</th>\n",
       "      <th>win_amount</th>\n",
       "      <th>direction</th>\n",
       "      <th>asset_id</th>\n",
       "      <th>deal_result</th>\n",
       "      <th>open_deal_time</th>\n",
       "    </tr>\n",
       "  </thead>\n",
       "  <tbody>\n",
       "    <tr>\n",
       "      <th>40232</th>\n",
       "      <td>152382878</td>\n",
       "      <td>0.765</td>\n",
       "      <td>1.380</td>\n",
       "      <td>down</td>\n",
       "      <td>1</td>\n",
       "      <td>win</td>\n",
       "      <td>2017-09-07 13:39:13</td>\n",
       "    </tr>\n",
       "    <tr>\n",
       "      <th>32192</th>\n",
       "      <td>152144026</td>\n",
       "      <td>2.500</td>\n",
       "      <td>0.000</td>\n",
       "      <td>down</td>\n",
       "      <td>1</td>\n",
       "      <td>loose</td>\n",
       "      <td>2017-09-06 20:33:44</td>\n",
       "    </tr>\n",
       "    <tr>\n",
       "      <th>12866</th>\n",
       "      <td>152160190</td>\n",
       "      <td>1.000</td>\n",
       "      <td>0.000</td>\n",
       "      <td>up</td>\n",
       "      <td>1</td>\n",
       "      <td>loose</td>\n",
       "      <td>2017-09-04 21:58:03</td>\n",
       "    </tr>\n",
       "    <tr>\n",
       "      <th>47699</th>\n",
       "      <td>152356672</td>\n",
       "      <td>1.000</td>\n",
       "      <td>1.720</td>\n",
       "      <td>down</td>\n",
       "      <td>1</td>\n",
       "      <td>win</td>\n",
       "      <td>2017-09-08 04:18:59</td>\n",
       "    </tr>\n",
       "    <tr>\n",
       "      <th>12868</th>\n",
       "      <td>152298776</td>\n",
       "      <td>5.950</td>\n",
       "      <td>10.595</td>\n",
       "      <td>down</td>\n",
       "      <td>1</td>\n",
       "      <td>win</td>\n",
       "      <td>2017-09-04 21:58:10</td>\n",
       "    </tr>\n",
       "  </tbody>\n",
       "</table>\n",
       "</div>"
      ],
      "text/plain": [
       "         user_id         ...                open_deal_time\n",
       "40232  152382878         ...           2017-09-07 13:39:13\n",
       "32192  152144026         ...           2017-09-06 20:33:44\n",
       "12866  152160190         ...           2017-09-04 21:58:03\n",
       "47699  152356672         ...           2017-09-08 04:18:59\n",
       "12868  152298776         ...           2017-09-04 21:58:10\n",
       "\n",
       "[5 rows x 7 columns]"
      ]
     },
     "execution_count": 12,
     "metadata": {},
     "output_type": "execute_result"
    }
   ],
   "source": [
    "deals = pd.read_csv('tt_real_deals.csv')\n",
    "conn = sqlite3.connect(\"depo.db\") \n",
    "\n",
    "print(deals.asset_id.nunique())\n",
    "print(deals.shape) \n",
    "print(deals.user_id.nunique())\n",
    "deals.sort_values('asset_id').head() "
   ]
  },
  {
   "cell_type": "code",
   "execution_count": 13,
   "metadata": {
    "_uuid": "da31ead512c341e05c76829240d584fe38b1af0c"
   },
   "outputs": [
    {
     "data": {
      "text/plain": [
       "<matplotlib.axes._subplots.AxesSubplot at 0x7f08467b9f60>"
      ]
     },
     "execution_count": 13,
     "metadata": {},
     "output_type": "execute_result"
    },
    {
     "data": {
      "image/png": "[encoded data removed]",
      "text/plain": [
       "<matplotlib.figure.Figure at 0x7f07d22a1dd8>"
      ]
     },
     "metadata": {},
     "output_type": "display_data"
    }
   ],
   "source": [
    "# The diagram is very skewed. We will try to normalize it a bit by removing outliers in the next step using IQR method\n",
    "deals.deal_amount.plot(kind='hist', bins=100, legend=True)"
   ]
  },
  {
   "cell_type": "markdown",
   "metadata": {
    "_uuid": "ae7a52532dcfacd9c80768272eaa931e30319998"
   },
   "source": [
    "**Dealing with outliers**"
   ]
  },
  {
   "cell_type": "code",
   "execution_count": 14,
   "metadata": {
    "_uuid": "34c04ec67ad0e16bc490e2d0e66efc7c43f49ffa"
   },
   "outputs": [
    {
     "name": "stdout",
     "output_type": "stream",
     "text": [
      "0.25    0.5\n",
      "0.50    0.6\n",
      "0.75    1.5\n",
      "Name: deal_amount, dtype: float64\n",
      "(60246, 7)\n"
     ]
    },
    {
     "data": {
      "text/plain": [
       "<matplotlib.axes._subplots.AxesSubplot at 0x7f0846ac1f28>"
      ]
     },
     "execution_count": 14,
     "metadata": {},
     "output_type": "execute_result"
    },
    {
     "data": {
      "image/png": "[encoded data removed]",
      "text/plain": [
       "<matplotlib.figure.Figure at 0x7f0846d3dcf8>"
      ]
     },
     "metadata": {},
     "output_type": "display_data"
    }
   ],
   "source": [
    "# IQR method\n",
    "print(deals.deal_amount.quantile([0.25, 0.5, 0.75]))\n",
    "IQR = 1.5 - 0.5\n",
    "lower = 0.5-1.5*IQR\n",
    "upper = 1.5+1.5*IQR\n",
    "clean_deals = deals[deals.deal_amount<=upper]\n",
    "print(clean_deals.shape)\n",
    "clean_deals.to_sql('real_deals', conn, if_exists='replace', index=False)\n",
    "clean_deals.deal_amount.plot(kind='hist', legend=True)"
   ]
  },
  {
   "cell_type": "code",
   "execution_count": 15,
   "metadata": {
    "_uuid": "9244f6ff7d22f041b8f1d1c2235b3fce17194eca"
   },
   "outputs": [
    {
     "data": {
      "text/html": [
       "<div>\n",
       "<style scoped>\n",
       "    .dataframe tbody tr th:only-of-type {\n",
       "        vertical-align: middle;\n",
       "    }\n",
       "\n",
       "    .dataframe tbody tr th {\n",
       "        vertical-align: top;\n",
       "    }\n",
       "\n",
       "    .dataframe thead th {\n",
       "        text-align: right;\n",
       "    }\n",
       "</style>\n",
       "<table border=\"1\" class=\"dataframe\">\n",
       "  <thead>\n",
       "    <tr style=\"text-align: right;\">\n",
       "      <th></th>\n",
       "      <th>number_of_users</th>\n",
       "      <th>gross_deal_amount</th>\n",
       "      <th>average_deal_amount</th>\n",
       "      <th>gross_win_amount</th>\n",
       "      <th>average_win_amount</th>\n",
       "      <th>asset_id</th>\n",
       "    </tr>\n",
       "  </thead>\n",
       "  <tbody>\n",
       "    <tr>\n",
       "      <th>0</th>\n",
       "      <td>307</td>\n",
       "      <td>9359.695</td>\n",
       "      <td>30.487606</td>\n",
       "      <td>8503.710</td>\n",
       "      <td>27.699381</td>\n",
       "      <td>1</td>\n",
       "    </tr>\n",
       "    <tr>\n",
       "      <th>1</th>\n",
       "      <td>206</td>\n",
       "      <td>4065.650</td>\n",
       "      <td>19.736165</td>\n",
       "      <td>3699.325</td>\n",
       "      <td>17.957888</td>\n",
       "      <td>99</td>\n",
       "    </tr>\n",
       "    <tr>\n",
       "      <th>2</th>\n",
       "      <td>206</td>\n",
       "      <td>5550.625</td>\n",
       "      <td>26.944782</td>\n",
       "      <td>5116.160</td>\n",
       "      <td>24.835728</td>\n",
       "      <td>101</td>\n",
       "    </tr>\n",
       "    <tr>\n",
       "      <th>3</th>\n",
       "      <td>166</td>\n",
       "      <td>2939.140</td>\n",
       "      <td>17.705663</td>\n",
       "      <td>2683.785</td>\n",
       "      <td>16.167380</td>\n",
       "      <td>212</td>\n",
       "    </tr>\n",
       "    <tr>\n",
       "      <th>4</th>\n",
       "      <td>164</td>\n",
       "      <td>2554.100</td>\n",
       "      <td>15.573780</td>\n",
       "      <td>2295.815</td>\n",
       "      <td>13.998872</td>\n",
       "      <td>100</td>\n",
       "    </tr>\n",
       "  </tbody>\n",
       "</table>\n",
       "</div>"
      ],
      "text/plain": [
       "   number_of_users  gross_deal_amount    ...     average_win_amount  asset_id\n",
       "0              307           9359.695    ...              27.699381         1\n",
       "1              206           4065.650    ...              17.957888        99\n",
       "2              206           5550.625    ...              24.835728       101\n",
       "3              166           2939.140    ...              16.167380       212\n",
       "4              164           2554.100    ...              13.998872       100\n",
       "\n",
       "[5 rows x 6 columns]"
      ]
     },
     "execution_count": 15,
     "metadata": {},
     "output_type": "execute_result"
    }
   ],
   "source": [
    "# Gross amount of unique user_id, gross and average deal_amount, gross and average win_amount per asset_id\n",
    "users_per_asset = pd.read_sql(\"\"\"select count(distinct user_id) as number_of_users, sum(deal_amount) as gross_deal_amount, \n",
    "sum(deal_amount)/count(distinct user_id) as average_deal_amount, sum(win_amount) as gross_win_amount, sum(win_amount)/count(distinct user_id) \n",
    "as average_win_amount, asset_id from real_deals group by asset_id\n",
    "order by number_of_users desc;\"\"\", conn\n",
    ")\n",
    "# , index_col='asset_id'\n",
    "users_per_asset.head()"
   ]
  },
  {
   "cell_type": "code",
   "execution_count": 16,
   "metadata": {
    "_uuid": "156635c873d50a5d1449945c7b7bab80d6746b5d"
   },
   "outputs": [
    {
     "data": {
      "image/png": "[encoded data removed]",
      "text/plain": [
       "<matplotlib.figure.Figure at 0x7f07b466bb38>"
      ]
     },
     "metadata": {},
     "output_type": "display_data"
    },
    {
     "data": {
      "image/png": "[encoded data removed]",
      "text/plain": [
       "<matplotlib.figure.Figure at 0x7f07b45d5240>"
      ]
     },
     "metadata": {},
     "output_type": "display_data"
    },
    {
     "data": {
      "image/png": "[encoded data removed]",
      "text/plain": [
       "<matplotlib.figure.Figure at 0x7f07b4480e80>"
      ]
     },
     "metadata": {},
     "output_type": "display_data"
    },
    {
     "data": {
      "image/png": "[encoded data removed]",
      "text/plain": [
       "<matplotlib.figure.Figure at 0x7f07b444db38>"
      ]
     },
     "metadata": {},
     "output_type": "display_data"
    }
   ],
   "source": [
    "a = users_per_asset.plot('asset_id', 'number_of_users', kind='bar')\n",
    "b = users_per_asset.plot('asset_id', 'average_deal_amount', kind='bar')\n",
    "c = users_per_asset.plot('asset_id', 'average_win_amount', kind='bar')\n",
    "d = users_per_asset.plot('asset_id', 'gross_win_amount', kind='bar')"
   ]
  },
  {
   "cell_type": "code",
   "execution_count": 17,
   "metadata": {
    "_uuid": "67c8e68622a366e8ece4afb5827ab861014c670d"
   },
   "outputs": [
    {
     "data": {
      "text/plain": [
       "<matplotlib.axes._subplots.AxesSubplot at 0x7f07b4368c88>"
      ]
     },
     "execution_count": 17,
     "metadata": {},
     "output_type": "execute_result"
    },
    {
     "data": {
      "image/png": "[encoded data removed]",
      "text/plain": [
       "<matplotlib.figure.Figure at 0x7f07d003a240>"
      ]
     },
     "metadata": {},
     "output_type": "display_data"
    }
   ],
   "source": [
    "# Graph\n",
    "users_per_asset.plot('average_deal_amount', 'average_win_amount', kind='scatter')"
   ]
  },
  {
   "cell_type": "code",
   "execution_count": 19,
   "metadata": {
    "_uuid": "cdbfdc16e18af938d05016008a81fe643d266826"
   },
   "outputs": [
    {
     "data": {
      "text/html": [
       "<div>\n",
       "<style scoped>\n",
       "    .dataframe tbody tr th:only-of-type {\n",
       "        vertical-align: middle;\n",
       "    }\n",
       "\n",
       "    .dataframe tbody tr th {\n",
       "        vertical-align: top;\n",
       "    }\n",
       "\n",
       "    .dataframe thead th {\n",
       "        text-align: right;\n",
       "    }\n",
       "</style>\n",
       "<table border=\"1\" class=\"dataframe\">\n",
       "  <thead>\n",
       "    <tr style=\"text-align: right;\">\n",
       "      <th></th>\n",
       "      <th>wins</th>\n",
       "      <th>lose</th>\n",
       "      <th>equal</th>\n",
       "      <th>sold</th>\n",
       "      <th>cancelled</th>\n",
       "    </tr>\n",
       "    <tr>\n",
       "      <th>asset_id</th>\n",
       "      <th></th>\n",
       "      <th></th>\n",
       "      <th></th>\n",
       "      <th></th>\n",
       "      <th></th>\n",
       "    </tr>\n",
       "  </thead>\n",
       "  <tbody>\n",
       "    <tr>\n",
       "      <th>1</th>\n",
       "      <td>5722</td>\n",
       "      <td>5395</td>\n",
       "      <td>448</td>\n",
       "      <td>515</td>\n",
       "      <td>3</td>\n",
       "    </tr>\n",
       "    <tr>\n",
       "      <th>2</th>\n",
       "      <td>173</td>\n",
       "      <td>140</td>\n",
       "      <td>6</td>\n",
       "      <td>50</td>\n",
       "      <td>0</td>\n",
       "    </tr>\n",
       "    <tr>\n",
       "      <th>3</th>\n",
       "      <td>49</td>\n",
       "      <td>56</td>\n",
       "      <td>4</td>\n",
       "      <td>17</td>\n",
       "      <td>0</td>\n",
       "    </tr>\n",
       "    <tr>\n",
       "      <th>4</th>\n",
       "      <td>1566</td>\n",
       "      <td>1469</td>\n",
       "      <td>63</td>\n",
       "      <td>154</td>\n",
       "      <td>3</td>\n",
       "    </tr>\n",
       "    <tr>\n",
       "      <th>5</th>\n",
       "      <td>183</td>\n",
       "      <td>176</td>\n",
       "      <td>11</td>\n",
       "      <td>37</td>\n",
       "      <td>0</td>\n",
       "    </tr>\n",
       "  </tbody>\n",
       "</table>\n",
       "</div>"
      ],
      "text/plain": [
       "          wins  lose  equal  sold  cancelled\n",
       "asset_id                                    \n",
       "1         5722  5395    448   515          3\n",
       "2          173   140      6    50          0\n",
       "3           49    56      4    17          0\n",
       "4         1566  1469     63   154          3\n",
       "5          183   176     11    37          0"
      ]
     },
     "execution_count": 19,
     "metadata": {},
     "output_type": "execute_result"
    }
   ],
   "source": [
    "def results():\n",
    "    deal_results = pd.DataFrame()\n",
    "    deal_results['wins'] = deals[deals['deal_result']=='win']['deal_result'].groupby(deals['asset_id']).count()\n",
    "    deal_results['lose'] = deals[deals['deal_result']=='loose']['deal_result'].groupby(deals['asset_id']).count()\n",
    "    deal_results['equal'] = deals[deals['deal_result']=='equal']['deal_result'].groupby(deals['asset_id']).count()\n",
    "    deal_results['sold'] = deals[deals['deal_result']=='sold']['deal_result'].groupby(deals['asset_id']).count()\n",
    "    deal_results['cancelled'] = deals[deals['deal_result']=='canceled']['deal_result'].groupby(deals['asset_id']).count()\n",
    "    deal_results.fillna(0, inplace=True)\n",
    "    return deal_results.astype(int)\n",
    "                           \n",
    "results().head()                                                "
   ]
  },
  {
   "cell_type": "markdown",
   "metadata": {
    "_uuid": "42a9e9b3d12a6e425951e3de33c5b33573bf18ec"
   },
   "source": [
    "**Conclusion**\n"
   ]
  },
  {
   "cell_type": "markdown",
   "metadata": {
    "_uuid": "384fb46e13303582a82149d9730c14829b54435e",
    "collapsed": true
   },
   "source": [
    "**In the further analysis there can be **"
   ]
  },
  {
   "cell_type": "code",
   "execution_count": null,
   "metadata": {
    "_uuid": "b6ea69f61cc53bf74c94844b003a5b8fab8ca3b2",
    "collapsed": true
   },
   "outputs": [],
   "source": []
  }
 ],
 "metadata": {
  "kernelspec": {
   "display_name": "Python 3",
   "language": "python",
   "name": "python3"
  },
  "language_info": {
   "codemirror_mode": {
    "name": "ipython",
    "version": 3
   },
   "file_extension": ".py",
   "mimetype": "text/x-python",
   "name": "python",
   "nbconvert_exporter": "python",
   "pygments_lexer": "ipython3",
   "version": "3.6.2"
  }
 },
 "nbformat": 4,
 "nbformat_minor": 1
}
