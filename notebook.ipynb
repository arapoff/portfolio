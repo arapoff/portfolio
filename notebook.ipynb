{
  "cells": [
    {
      "metadata": {
        "_uuid": "5fb8e5c207c8d6e4a39f4e715578cecf7e72094a"
      },
      "cell_type": "markdown",
      "source": "                                        **Аналитический отчет**\nО влиянии полов и возрастов на количество больничных дней\nГипотезы:\n“Мужчины пропускают в течение года более 2 рабочих дней по болезни значимо чаще\nженщин”.\n\"Работники старше 35 лет пропускают в течение года более 2 рабочих дней по болезни\nзначимо чаще своих более молодых коллег\".\n\nСтатистический анализ опровергает обе гипотезы. Можно представить две основные\nпричины расхождения между наблюдением компании и заключением данного анализа.\nПервое, наблюдение компании и представленные гипотезы могли не учесть отличия в\nрабочих условиях ее сотрудников. Если компания производственная, как в случае с\nкомпанией Северсталь, то ее работники могут работать в разных природных условиях, а\nименно, в офисе или непосредственно в грязном производстве, либо вблизи грязного\nпроизводства, как например, в случае с инженерами и некоторыми сотрудниками\nбухгалтерской службы. Соответственно, в зависимости от рабочих условий, состояние\nздоровья между этими сотрудниками могут существенно отличаться вне зависимости от\nвозраста или гендерной принадлежности.Таким образом, можно было бы объяснить\nнаблюдение компании относительно того, что мужчины чаще болеют, так как в основном,\nмужчины задействованы в грязной промышленности, к пример в шахтах или на карьере.\nВторое, можно также допустить, что, действительно, компания могла заметить более\nчастую заболеваемость среди мужчин и людей старше 35 именно среди офисных\nработников. В таком случае, нужно выяснить отличаются ли мужчины от женщин или\nлюди старше 35 от своих более молодых коллег по роду деятельности. Если будет\nустановлена взаимосвязь между видом пола и служебными обязанностями или возрастом\nи служебными обязанностями, то тогда нужно будет, вне зависимости от возраста или\nпола, включить в группу риска сотрудников тех специальностей, среди которых была\nзамечена сравнительно высокая частота заболеваемости. Возможно, что служебные\nобязанности и среди сотрудников, не связанных с грязным производством, могут\nсущественно отличаться в уровне их влияния на здоровье людей, в виде стресса и\nответственности.\n\nДля более аккуратного статистического анализа для установления групп риска следует\nсобрать данные на род деятельности сотрудников и тип их заболеваний. В таком случае,\nв дополнение появится возможность провести Multivariate and Multiple regression analyses."
    },
    {
      "metadata": {
        "_cell_guid": "ade90dfe-0b07-4284-aa3a-4e50b7c9abef",
        "_uuid": "bff97aedda437534d014ead3a551ffb502cf53e6"
      },
      "cell_type": "markdown",
      "source": "** Гипотеза 1**.\n \"Мужчины пропускают в течение года более 2 рабочих дней по болезни значимо чаще женщин\". "
    },
    {
      "metadata": {
        "_cell_guid": "b1076dfc-b9ad-4769-8c92-a6c4dae69d19",
        "_uuid": "8f2839f25d086af736a60e9eeb907d3b93b6e0e5",
        "trusted": false
      },
      "cell_type": "code",
      "source": "import pandas as pd\nimport matplotlib\n%matplotlib inline\nimport seaborn as sb\n\ndf = pd.read_csv('../input/data1.csv', encoding=\"windows-1251\")\n# df.rename(columns = {'Количество больничных дней': 'Sick leaves', 'Возраст': 'Age', 'Пол': 'Gender' }, inplace = True)\ndf.head()",
      "execution_count": 1,
      "outputs": [
        {
          "data": {},
          "execution_count": 1,
          "metadata": {},
          "output_type": "execute_result"
        }
      ]
    },
    {
      "metadata": {
        "_cell_guid": "63087c89-0780-4fc5-b4c9-21daf86b8e17",
        "_uuid": "eb931bdb24e8b19a1b408d8a67af0c1adfd4b77c",
        "trusted": false
      },
      "cell_type": "code",
      "source": "# Distribution of males and females differ from each other in the dataset\nprint(df['Пол'].value_counts())",
      "execution_count": 2,
      "outputs": []
    },
    {
      "metadata": {
        "_cell_guid": "c2edd091-8039-4676-b967-caa22643467a",
        "_uuid": "d41d67812d4e80d79d789385806fa2c7b216bdfa",
        "trusted": false
      },
      "cell_type": "code",
      "source": "# First off we need to conduct a simple Random Sampling to equalize amount of males and females in number. \nmales = df[df['Пол']=='М'].sample(98)\nfemales = df[df['Пол']=='Ж']\nframes = [males, females]\npeople = pd.concat(frames)\nprint (people.shape)",
      "execution_count": 3,
      "outputs": []
    },
    {
      "metadata": {
        "_cell_guid": "79c7e3d0-c299-4dcb-8224-4455121ee9b0",
        "_uuid": "d629ff2d2480ee46fbb7e2d37f6b5fab8052498a",
        "trusted": false
      },
      "cell_type": "code",
      "source": "# Curiously enough, according to the following histogram, it is actually females who exceed males in the frequency of over 2 sick leaves.\n# However, according to the T-test in the following cells, the histogram cannot be proved statistically.\ndata = people[people['Количество больничных дней']>2]\ndata['Пол'].value_counts().plot.bar()\nprint(data['Пол'].value_counts())",
      "execution_count": 4,
      "outputs": [
        {
          "data": {
            "image/png": "[encoded data removed]"
          },
          "metadata": {},
          "output_type": "display_data"
        }
      ]
    },
    {
      "metadata": {
        "_cell_guid": "82a53875-6c5b-4c8c-af99-ea6cc5dc229b",
        "_uuid": "b05f2274fc8a4b4cf2c2f267d900f299c71e2b71",
        "trusted": false
      },
      "cell_type": "code",
      "source": "# We don`t observe any outliers\ndata.groupby(['Пол']).describe()",
      "execution_count": 5,
      "outputs": [
        {
          "data": {},
          "execution_count": 5,
          "metadata": {},
          "output_type": "execute_result"
        }
      ]
    },
    {
      "metadata": {
        "_uuid": "7cb9c32da66fb42298c419c8f95f329c9417c672"
      },
      "cell_type": "markdown",
      "source": "**According to Fisher`s exact test, given such a great p-value we cannot reject the null hypothesis\n\nHence, the hypothesis that Males more often have 2 Sick leaves than females cannot be supported.**"
    },
    {
      "metadata": {
        "_cell_guid": "df51aab1-da8b-4705-ae70-e09d9d0c5154",
        "_uuid": "66e27c7a74df19342790635ef1c39e0601c57f5c",
        "trusted": false
      },
      "cell_type": "code",
      "source": "'''\nH0: Males do not have 2 Sick leaves more often than females.\nH1: Males more often have 2 Sick leaves than females.\n'''\nimport scipy.stats as stats\noddsratio, pvalue = stats.fisher_exact([[67, 55], [61, 43]])\npvalue",
      "execution_count": 7,
      "outputs": [
        {
          "data": {},
          "execution_count": 7,
          "metadata": {},
          "output_type": "execute_result"
        }
      ]
    },
    {
      "metadata": {
        "_cell_guid": "e6fda722-19ba-4bca-92cf-d495745c5efd",
        "_uuid": "b20c749959986a12d43570158f5a8943ab3b69e5",
        "trusted": false
      },
      "cell_type": "code",
      "source": "'''Alternative method using T-test for a new hypothesis.'''\npeople.groupby(['Пол']).describe()",
      "execution_count": 8,
      "outputs": [
        {
          "data": {},
          "execution_count": 8,
          "metadata": {},
          "output_type": "execute_result"
        }
      ]
    },
    {
      "metadata": {
        "_cell_guid": "eea814ee-4da9-43af-98ed-da6b40e222a6",
        "_uuid": "208db6fd2c8264cdca40793b4dd94332aefbb3e5",
        "collapsed": true,
        "trusted": false
      },
      "cell_type": "code",
      "source": "males_days = males['Количество больничных дней']\nfemales_days = females['Количество больничных дней']",
      "execution_count": 9,
      "outputs": []
    },
    {
      "metadata": {
        "_cell_guid": "caef7787-89f5-4ce7-805c-ade48a790f77",
        "_uuid": "1153cc717a16cf7e6d83b4ffe12ee990fa52e212",
        "trusted": false
      },
      "cell_type": "code",
      "source": "'''We can`t reject null hypothesis of equal means, as T-test supports Fisher`s exact test findings in seeing no significant difference \nbetween male and female groups on the amount of 'Sick leaves'.'''\nfrom scipy import stats\nstats.ttest_ind(males_days, females_days)",
      "execution_count": 10,
      "outputs": [
        {
          "data": {},
          "execution_count": 10,
          "metadata": {},
          "output_type": "execute_result"
        }
      ]
    },
    {
      "metadata": {
        "_cell_guid": "f969a880-624a-43aa-9ae0-d258ecf188a4",
        "_uuid": "9c61869600ba35b48b77f76369bcd803873f7849",
        "collapsed": true
      },
      "cell_type": "markdown",
      "source": "**Гипотеза 2.**\n\"Работники старше 35 лет пропускают в течение года более 2 рабочих дней по болезни значимо чаще своих более молодых коллег\"."
    },
    {
      "metadata": {
        "_cell_guid": "c2f0d34b-9379-4325-b17b-15297a765215",
        "_uuid": "398ef052986cab327d53b3fa0bcc0aab88f8a677",
        "trusted": false
      },
      "cell_type": "code",
      "source": "# Number of people under 35 years of age\ndf[df['Возраст']<35]['Возраст'].count()",
      "execution_count": 12,
      "outputs": [
        {
          "data": {},
          "execution_count": 12,
          "metadata": {},
          "output_type": "execute_result"
        }
      ]
    },
    {
      "metadata": {
        "_cell_guid": "0a836fb8-7d28-4d2b-97e8-e472d3ead443",
        "_uuid": "cb603787b83d2f52326a9205d1c6cdf3040b2c95",
        "trusted": false,
        "collapsed": true
      },
      "cell_type": "code",
      "source": "# Random Sampling to equalize amount of males and females in number. \nold = df[df['Возраст']>35].sample(46)\nyoung = df[df['Возраст']<35]\nvalues = [old, young]\nresults = pd.concat(values)",
      "execution_count": 14,
      "outputs": []
    },
    {
      "metadata": {
        "_cell_guid": "d4867aa9-9bd9-4e40-8298-e83314c620a6",
        "_uuid": "aea91514b887f1438d35aaf9eb7156b182908a0f",
        "trusted": false
      },
      "cell_type": "code",
      "source": "print(old[old['Количество больничных дней']>2]['Количество больничных дней'].count())\nprint(young[young['Количество больничных дней']>2]['Количество больничных дней'].count())",
      "execution_count": 16,
      "outputs": []
    },
    {
      "metadata": {
        "_uuid": "4e57432d158461de5ccff7d519f6faf950b8289f"
      },
      "cell_type": "markdown",
      "source": "According to Fisher`s exact test, given such a high p-value, we cannot reject the null hypothesis.\nHence the alternative hyporthesis that employees over 35 years of age have a higher frequency of \nhaving more than 2 sick leaves than their younger colleagues can be rejected."
    },
    {
      "metadata": {
        "_cell_guid": "40620b23-bba3-4d0e-a908-1cb42977e4bd",
        "_uuid": "c32fb4bd4ea36180335cffe588d280859d56f6d8",
        "trusted": false
      },
      "cell_type": "code",
      "source": "'''\nH0: Employees over 35 years of age do not differ in the frequency of having more than 2 sick leaves than their younger colleagues. \nH1: Employees over 35 years of age have a higher frequency of having more than 2 sick leaves than their younger colleagues.\n'''\nodds, p_value = stats.fisher_exact([[26, 20], [31, 14]])\np_value",
      "execution_count": 18,
      "outputs": [
        {
          "data": {},
          "execution_count": 18,
          "metadata": {},
          "output_type": "execute_result"
        }
      ]
    }
  ],
  "metadata": {
    "kernelspec": {
      "display_name": "Python 3",
      "language": "python",
      "name": "python3"
    },
    "language_info": {
      "codemirror_mode": {
        "name": "ipython",
        "version": 3
      },
      "file_extension": ".py",
      "mimetype": "text/x-python",
      "name": "python",
      "nbconvert_exporter": "python",
      "pygments_lexer": "ipython3",
      "version": "3.6.2"
    }
  },
  "nbformat": 4,
  "nbformat_minor": 1
}