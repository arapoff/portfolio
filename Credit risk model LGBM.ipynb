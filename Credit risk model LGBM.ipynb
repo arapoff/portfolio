{
  "cells": [
    {
      "metadata": {
        "_uuid": "34a519ef3b9632d1ee2ef32b196614341acc9d01"
      },
      "cell_type": "markdown",
      "source": "  **Sultan Arapov**"
    },
    {
      "metadata": {
        "_uuid": "f2932ef582c8282f7d4a01cbf8ef2d5fb033e280"
      },
      "cell_type": "markdown",
      "source": "**BRIEF comparison of LGBM vs. Logistic regression model performances in predicting credit risk probability**\n\n **Metric chosen is Roc_auc**"
    },
    {
      "metadata": {
        "_uuid": "8f2839f25d086af736a60e9eeb907d3b93b6e0e5",
        "_cell_guid": "b1076dfc-b9ad-4769-8c92-a6c4dae69d19",
        "trusted": true
      },
      "cell_type": "code",
      "source": "import numpy as np \nimport pandas as pd \nimport lightgbm as lgb\npd.options.mode.chained_assignment = None\n\ntrain = pd.read_excel(\"../input/Dataset.xlsx\", 'train')\ntest = pd.read_excel(\"../input/Dataset.xlsx\", 'test')\ntrain.head()",
      "execution_count": 76,
      "outputs": [
        {
          "output_type": "execute_result",
          "execution_count": 76,
          "data": {
            "text/plain": "   NUM   F0    F1   F2         F3   ...    F126  F127  F128  F129  TARGET\n0    0  0.0   1.0  1.0   199900.0   ...     1.0   1.0   0.0   0.0       1\n1    1  0.0   0.0  0.0        0.0   ...     1.0   0.0   0.0   0.0       0\n2    2  0.0   0.0  0.0        0.0   ...     0.0   1.0   0.0   0.0       0\n3    3  2.0  10.0  1.0  1187750.0   ...     1.0   1.0   1.0   0.0       0\n4    4  0.0   5.0  4.0   318771.0   ...     0.0   1.0   0.0   0.0       1\n\n[5 rows x 132 columns]",
            "text/html": "<div>\n<style scoped>\n    .dataframe tbody tr th:only-of-type {\n        vertical-align: middle;\n    }\n\n    .dataframe tbody tr th {\n        vertical-align: top;\n    }\n\n    .dataframe thead th {\n        text-align: right;\n    }\n</style>\n<table border=\"1\" class=\"dataframe\">\n  <thead>\n    <tr style=\"text-align: right;\">\n      <th></th>\n      <th>NUM</th>\n      <th>F0</th>\n      <th>F1</th>\n      <th>F2</th>\n      <th>F3</th>\n      <th>F4</th>\n      <th>F5</th>\n      <th>F6</th>\n      <th>F7</th>\n      <th>F8</th>\n      <th>F9</th>\n      <th>F10</th>\n      <th>F11</th>\n      <th>F12</th>\n      <th>F13</th>\n      <th>F14</th>\n      <th>F15</th>\n      <th>F16</th>\n      <th>F17</th>\n      <th>F18</th>\n      <th>F19</th>\n      <th>F20</th>\n      <th>F21</th>\n      <th>F22</th>\n      <th>F23</th>\n      <th>F24</th>\n      <th>F25</th>\n      <th>F26</th>\n      <th>F27</th>\n      <th>F28</th>\n      <th>F29</th>\n      <th>F30</th>\n      <th>F31</th>\n      <th>F32</th>\n      <th>F33</th>\n      <th>F34</th>\n      <th>F35</th>\n      <th>F36</th>\n      <th>F37</th>\n      <th>F38</th>\n      <th>...</th>\n      <th>F91</th>\n      <th>F92</th>\n      <th>F93</th>\n      <th>F94</th>\n      <th>F95</th>\n      <th>F96</th>\n      <th>F97</th>\n      <th>F98</th>\n      <th>F99</th>\n      <th>F100</th>\n      <th>F101</th>\n      <th>F102</th>\n      <th>F103</th>\n      <th>F104</th>\n      <th>F105</th>\n      <th>F106</th>\n      <th>F107</th>\n      <th>F108</th>\n      <th>F109</th>\n      <th>F110</th>\n      <th>F111</th>\n      <th>F112</th>\n      <th>F113</th>\n      <th>F114</th>\n      <th>F115</th>\n      <th>F116</th>\n      <th>F117</th>\n      <th>F118</th>\n      <th>F119</th>\n      <th>F120</th>\n      <th>F121</th>\n      <th>F122</th>\n      <th>F123</th>\n      <th>F124</th>\n      <th>F125</th>\n      <th>F126</th>\n      <th>F127</th>\n      <th>F128</th>\n      <th>F129</th>\n      <th>TARGET</th>\n    </tr>\n  </thead>\n  <tbody>\n    <tr>\n      <th>0</th>\n      <td>0</td>\n      <td>0.0</td>\n      <td>1.0</td>\n      <td>1.0</td>\n      <td>199900.0</td>\n      <td>0.0</td>\n      <td>1.0</td>\n      <td>0.0</td>\n      <td>1.0</td>\n      <td>0.0</td>\n      <td>0.0</td>\n      <td>3.0</td>\n      <td>2.0</td>\n      <td>49725.0</td>\n      <td>5.0</td>\n      <td>1.0</td>\n      <td>120.0</td>\n      <td>0.0</td>\n      <td>1.0</td>\n      <td>0.0</td>\n      <td>0.0</td>\n      <td>0.0</td>\n      <td>0.0</td>\n      <td>276677.278857</td>\n      <td>0.0</td>\n      <td>0.0</td>\n      <td>1.0</td>\n      <td>34.0</td>\n      <td>5.000000</td>\n      <td>1.0</td>\n      <td>660000.0</td>\n      <td>34.0</td>\n      <td>6.000000</td>\n      <td>0.0</td>\n      <td>0.0</td>\n      <td>0.0</td>\n      <td>0.0</td>\n      <td>1.0</td>\n      <td>1.0</td>\n      <td>220275.0</td>\n      <td>...</td>\n      <td>0.0</td>\n      <td>0.0</td>\n      <td>0.0</td>\n      <td>0.0</td>\n      <td>1.0</td>\n      <td>0.0</td>\n      <td>0.0</td>\n      <td>0.0</td>\n      <td>0.0</td>\n      <td>0.0</td>\n      <td>0.0</td>\n      <td>0.0</td>\n      <td>0.0</td>\n      <td>100.00000</td>\n      <td>0.0</td>\n      <td>0.0</td>\n      <td>0.0</td>\n      <td>1.0</td>\n      <td>0.783327</td>\n      <td>1.0</td>\n      <td>3.0</td>\n      <td>169970.000000</td>\n      <td>1.000000</td>\n      <td>1.0</td>\n      <td>1.0</td>\n      <td>1.0</td>\n      <td>0.0</td>\n      <td>170000.0</td>\n      <td>2.0</td>\n      <td>СТЕПЕНЬ</td>\n      <td>8.0</td>\n      <td>1.0</td>\n      <td>0.0</td>\n      <td>0.0</td>\n      <td>1.0</td>\n      <td>1.0</td>\n      <td>1.0</td>\n      <td>0.0</td>\n      <td>0.0</td>\n      <td>1</td>\n    </tr>\n    <tr>\n      <th>1</th>\n      <td>1</td>\n      <td>0.0</td>\n      <td>0.0</td>\n      <td>0.0</td>\n      <td>0.0</td>\n      <td>0.0</td>\n      <td>0.0</td>\n      <td>0.0</td>\n      <td>0.0</td>\n      <td>0.0</td>\n      <td>0.0</td>\n      <td>0.0</td>\n      <td>0.0</td>\n      <td>2121.0</td>\n      <td>0.0</td>\n      <td>0.0</td>\n      <td>NaN</td>\n      <td>0.0</td>\n      <td>0.0</td>\n      <td>1.0</td>\n      <td>1.0</td>\n      <td>17.0</td>\n      <td>1.0</td>\n      <td>142918.000000</td>\n      <td>0.0</td>\n      <td>3.0</td>\n      <td>3.0</td>\n      <td>111.0</td>\n      <td>5.000000</td>\n      <td>0.0</td>\n      <td>125000.0</td>\n      <td>32.0</td>\n      <td>876.000000</td>\n      <td>5.0</td>\n      <td>0.0</td>\n      <td>3.0</td>\n      <td>3.0</td>\n      <td>19.0</td>\n      <td>0.0</td>\n      <td>92879.0</td>\n      <td>...</td>\n      <td>0.0</td>\n      <td>1.0</td>\n      <td>1.0</td>\n      <td>0.0</td>\n      <td>1.0</td>\n      <td>1.0</td>\n      <td>1.0</td>\n      <td>1.0</td>\n      <td>1.0</td>\n      <td>0.0</td>\n      <td>1.0</td>\n      <td>0.0</td>\n      <td>0.0</td>\n      <td>81883.51675</td>\n      <td>1.0</td>\n      <td>1.0</td>\n      <td>1.0</td>\n      <td>0.0</td>\n      <td>0.000000</td>\n      <td>1.0</td>\n      <td>1.0</td>\n      <td>424951.475678</td>\n      <td>2.430397</td>\n      <td>0.0</td>\n      <td>0.0</td>\n      <td>0.0</td>\n      <td>0.0</td>\n      <td>30000.0</td>\n      <td>2.0</td>\n      <td>СТЕПЕНЬ</td>\n      <td>8.0</td>\n      <td>0.0</td>\n      <td>0.0</td>\n      <td>0.0</td>\n      <td>0.0</td>\n      <td>1.0</td>\n      <td>0.0</td>\n      <td>0.0</td>\n      <td>0.0</td>\n      <td>0</td>\n    </tr>\n    <tr>\n      <th>2</th>\n      <td>2</td>\n      <td>0.0</td>\n      <td>0.0</td>\n      <td>0.0</td>\n      <td>0.0</td>\n      <td>0.0</td>\n      <td>0.0</td>\n      <td>0.0</td>\n      <td>0.0</td>\n      <td>2.0</td>\n      <td>2.0</td>\n      <td>0.0</td>\n      <td>0.0</td>\n      <td>2121.0</td>\n      <td>0.0</td>\n      <td>0.0</td>\n      <td>NaN</td>\n      <td>0.0</td>\n      <td>0.0</td>\n      <td>1.0</td>\n      <td>1.0</td>\n      <td>4.0</td>\n      <td>4.0</td>\n      <td>276677.278857</td>\n      <td>0.0</td>\n      <td>0.0</td>\n      <td>1.0</td>\n      <td>5.0</td>\n      <td>4.430142</td>\n      <td>0.0</td>\n      <td>120005.0</td>\n      <td>23.0</td>\n      <td>499.315904</td>\n      <td>0.0</td>\n      <td>0.0</td>\n      <td>0.0</td>\n      <td>0.0</td>\n      <td>0.0</td>\n      <td>0.0</td>\n      <td>-2120.0</td>\n      <td>...</td>\n      <td>0.0</td>\n      <td>1.0</td>\n      <td>1.0</td>\n      <td>0.0</td>\n      <td>1.0</td>\n      <td>0.0</td>\n      <td>1.0</td>\n      <td>1.0</td>\n      <td>0.0</td>\n      <td>0.0</td>\n      <td>1.0</td>\n      <td>1.0</td>\n      <td>0.0</td>\n      <td>81883.51675</td>\n      <td>0.0</td>\n      <td>1.0</td>\n      <td>1.0</td>\n      <td>0.0</td>\n      <td>0.000000</td>\n      <td>1.0</td>\n      <td>3.0</td>\n      <td>74129.000000</td>\n      <td>1.000000</td>\n      <td>1.0</td>\n      <td>1.0</td>\n      <td>0.0</td>\n      <td>0.0</td>\n      <td>4.0</td>\n      <td>6.0</td>\n      <td>СПЕЦ</td>\n      <td>5.0</td>\n      <td>0.0</td>\n      <td>0.0</td>\n      <td>1.0</td>\n      <td>0.0</td>\n      <td>0.0</td>\n      <td>1.0</td>\n      <td>0.0</td>\n      <td>0.0</td>\n      <td>0</td>\n    </tr>\n    <tr>\n      <th>3</th>\n      <td>3</td>\n      <td>2.0</td>\n      <td>10.0</td>\n      <td>1.0</td>\n      <td>1187750.0</td>\n      <td>130990.0</td>\n      <td>6.0</td>\n      <td>0.0</td>\n      <td>2.0</td>\n      <td>0.0</td>\n      <td>0.0</td>\n      <td>0.0</td>\n      <td>0.0</td>\n      <td>2121.0</td>\n      <td>0.0</td>\n      <td>0.0</td>\n      <td>NaN</td>\n      <td>0.0</td>\n      <td>0.0</td>\n      <td>1.0</td>\n      <td>1.0</td>\n      <td>5.0</td>\n      <td>5.0</td>\n      <td>276677.278857</td>\n      <td>0.0</td>\n      <td>0.0</td>\n      <td>6.0</td>\n      <td>6.0</td>\n      <td>4.430142</td>\n      <td>0.0</td>\n      <td>144500.0</td>\n      <td>21.0</td>\n      <td>88.000000</td>\n      <td>1.0</td>\n      <td>0.0</td>\n      <td>1.0</td>\n      <td>0.0</td>\n      <td>45.0</td>\n      <td>29.0</td>\n      <td>62879.0</td>\n      <td>...</td>\n      <td>0.0</td>\n      <td>1.0</td>\n      <td>3.0</td>\n      <td>4.0</td>\n      <td>1.0</td>\n      <td>3.0</td>\n      <td>0.0</td>\n      <td>0.0</td>\n      <td>0.0</td>\n      <td>1.0</td>\n      <td>11.0</td>\n      <td>1.0</td>\n      <td>12.0</td>\n      <td>130.00000</td>\n      <td>7.0</td>\n      <td>0.0</td>\n      <td>0.0</td>\n      <td>0.0</td>\n      <td>0.000000</td>\n      <td>1.0</td>\n      <td>3.0</td>\n      <td>350916.000000</td>\n      <td>6.000000</td>\n      <td>1.0</td>\n      <td>1.0</td>\n      <td>1.0</td>\n      <td>0.0</td>\n      <td>3000.0</td>\n      <td>2.0</td>\n      <td>СТЕПЕНЬ</td>\n      <td>5.0</td>\n      <td>0.0</td>\n      <td>0.0</td>\n      <td>0.0</td>\n      <td>0.0</td>\n      <td>1.0</td>\n      <td>1.0</td>\n      <td>1.0</td>\n      <td>0.0</td>\n      <td>0</td>\n    </tr>\n    <tr>\n      <th>4</th>\n      <td>4</td>\n      <td>0.0</td>\n      <td>5.0</td>\n      <td>4.0</td>\n      <td>318771.0</td>\n      <td>0.0</td>\n      <td>4.0</td>\n      <td>0.0</td>\n      <td>1.0</td>\n      <td>0.0</td>\n      <td>0.0</td>\n      <td>0.0</td>\n      <td>0.0</td>\n      <td>57831.0</td>\n      <td>5.0</td>\n      <td>1.0</td>\n      <td>179.0</td>\n      <td>0.0</td>\n      <td>1.0</td>\n      <td>0.0</td>\n      <td>0.0</td>\n      <td>6.0</td>\n      <td>6.0</td>\n      <td>156218.000000</td>\n      <td>0.0</td>\n      <td>1.0</td>\n      <td>6.0</td>\n      <td>10.0</td>\n      <td>4.430142</td>\n      <td>0.0</td>\n      <td>125000.0</td>\n      <td>24.0</td>\n      <td>32.000000</td>\n      <td>0.0</td>\n      <td>0.0</td>\n      <td>0.0</td>\n      <td>0.0</td>\n      <td>1.0</td>\n      <td>7.0</td>\n      <td>27169.0</td>\n      <td>...</td>\n      <td>0.0</td>\n      <td>0.0</td>\n      <td>0.0</td>\n      <td>0.0</td>\n      <td>0.0</td>\n      <td>0.0</td>\n      <td>0.0</td>\n      <td>0.0</td>\n      <td>0.0</td>\n      <td>0.0</td>\n      <td>0.0</td>\n      <td>0.0</td>\n      <td>0.0</td>\n      <td>100.00000</td>\n      <td>0.0</td>\n      <td>0.0</td>\n      <td>0.0</td>\n      <td>1.0</td>\n      <td>1.000000</td>\n      <td>1.0</td>\n      <td>2.0</td>\n      <td>303138.000000</td>\n      <td>5.000000</td>\n      <td>1.0</td>\n      <td>1.0</td>\n      <td>1.0</td>\n      <td>0.0</td>\n      <td>40000.0</td>\n      <td>6.0</td>\n      <td>СТЕПЕНЬ</td>\n      <td>5.0</td>\n      <td>0.0</td>\n      <td>0.0</td>\n      <td>0.0</td>\n      <td>0.0</td>\n      <td>0.0</td>\n      <td>1.0</td>\n      <td>0.0</td>\n      <td>0.0</td>\n      <td>1</td>\n    </tr>\n  </tbody>\n</table>\n</div>"
          },
          "metadata": {}
        }
      ]
    },
    {
      "metadata": {
        "trusted": true,
        "_uuid": "32e846f51b6022d4652c6dc6d6ee1e9f12e8c858"
      },
      "cell_type": "code",
      "source": "# There is a class imbalance with the ratio\ntrain.TARGET.value_counts()[0]/train.TARGET.value_counts()[1]",
      "execution_count": 77,
      "outputs": [
        {
          "output_type": "execute_result",
          "execution_count": 77,
          "data": {
            "text/plain": "1.8055737398297953"
          },
          "metadata": {}
        }
      ]
    },
    {
      "metadata": {
        "trusted": true,
        "_uuid": "1280298dc632711523dd582f818abc68fc0f7897"
      },
      "cell_type": "code",
      "source": "print('train.shape: {}'.format(train.shape))\nprint('test.shape: {}'.format(test.shape))",
      "execution_count": 78,
      "outputs": [
        {
          "output_type": "stream",
          "text": "train.shape: (30000, 132)\ntest.shape: (10000, 131)\n",
          "name": "stdout"
        }
      ]
    },
    {
      "metadata": {
        "trusted": true,
        "collapsed": true,
        "_uuid": "6494084fbf481d019be8d9a89991753de8305287"
      },
      "cell_type": "code",
      "source": "table = pd.concat([train.iloc[:,:130], test.iloc[:,:130]], axis=0)\ntable.set_index('NUM', inplace=True)\ninputs = list(table.columns)\ncat_vars = ['F120']",
      "execution_count": 79,
      "outputs": []
    },
    {
      "metadata": {
        "trusted": true,
        "_uuid": "6787d729acc5ac4ef573e74a0a8182a95e58cc16"
      },
      "cell_type": "code",
      "source": "# Features that contain missing values\ntable.isnull().sum()[table.isnull().sum()>0]",
      "execution_count": 80,
      "outputs": [
        {
          "output_type": "execute_result",
          "execution_count": 80,
          "data": {
            "text/plain": "F12     6873\nF15    20822\nF75    17648\ndtype: int64"
          },
          "metadata": {}
        }
      ]
    },
    {
      "metadata": {
        "_uuid": "fb2bcb4d1350abcf7f2c69e031ad766678f17ea6"
      },
      "cell_type": "markdown",
      "source": "As the amount of missing values is pretty large for the given features, we will replace them by a rare value.\n\nWe assume that missing values appear not by chance, but rather for a reason, as they occurr only among these three features\nand thus, might characterize borrowers in a certain way."
    },
    {
      "metadata": {
        "trusted": true,
        "collapsed": true,
        "_uuid": "d8ac72d540c5d2377caee462f57e521daeb25355"
      },
      "cell_type": "code",
      "source": "table.fillna(-999, inplace=True)",
      "execution_count": 81,
      "outputs": []
    },
    {
      "metadata": {
        "trusted": true,
        "_uuid": "c7f791c08fae1ef6a5edff547c8465bb55855e19"
      },
      "cell_type": "code",
      "source": "from sklearn import preprocessing\nle = preprocessing.LabelEncoder()\nle.fit(table['F120'])\nprint(list(le.classes_))",
      "execution_count": 82,
      "outputs": [
        {
          "output_type": "stream",
          "text": "['ВЫСШ', 'НЕОК ВЫСШ', 'НЕТ', 'ПРОФИЛЬ', 'СПЕЦ', 'СРЕДН', 'СРЕПЕНЬ', 'СТЕПЕНЬ', 'ШКОЛ']\n",
          "name": "stdout"
        }
      ]
    },
    {
      "metadata": {
        "trusted": true,
        "_uuid": "00a93c0d5db12e6542a30d3926c687d6cb739ff7"
      },
      "cell_type": "code",
      "source": "table['F120'] = le.transform(table['F120'])\ntable['F120'].head()",
      "execution_count": 83,
      "outputs": [
        {
          "output_type": "execute_result",
          "execution_count": 83,
          "data": {
            "text/plain": "NUM\n0    7\n1    7\n2    4\n3    7\n4    7\nName: F120, dtype: int64"
          },
          "metadata": {}
        }
      ]
    },
    {
      "metadata": {
        "trusted": true,
        "collapsed": true,
        "_uuid": "4afa6e46dd54a8a29539632d6de54f1dcffad755"
      },
      "cell_type": "code",
      "source": "training = table[:30000]\ntesting = table[30000:40000]",
      "execution_count": 84,
      "outputs": []
    },
    {
      "metadata": {
        "_uuid": "b235bb2e40b3a6184e8cb8fe82654655e4c3babc"
      },
      "cell_type": "markdown",
      "source": "# **Logistic Regression**"
    },
    {
      "metadata": {
        "trusted": true,
        "_uuid": "dac0c33c9f04cae2ba7f0cbdb0b0d7600b4b28fb"
      },
      "cell_type": "code",
      "source": "# Features \"l2\" normalization for Logistic Regression model\nfrom sklearn.preprocessing import normalize\nnorm = normalize(training[inputs], 'l2') \n\nnorm = pd.DataFrame(norm, index=training.index, columns=training[inputs].columns)\nnorm = pd.concat([norm, train['TARGET']], axis=1)",
      "execution_count": 85,
      "outputs": []
    },
    {
      "metadata": {
        "trusted": true,
        "_uuid": "4bea10c9f7b40c996940efb5f9d90f3de8c1c83e"
      },
      "cell_type": "code",
      "source": "# Model estimation using stratified k-fold validation approach\nfrom sklearn.model_selection import cross_val_score\nfrom sklearn.linear_model import LogisticRegression\nlog_reg = LogisticRegression(class_weight='balanced')\ny = train['TARGET']\nscores = cross_val_score(log_reg, norm[inputs], y, cv=5, scoring='roc_auc')\nprint(scores)\nprint(scores.mean())",
      "execution_count": 89,
      "outputs": [
        {
          "output_type": "stream",
          "text": "[0.79843279 0.80021518 0.80411661 0.79062458 0.79121926]\n0.7969216866532195\n",
          "name": "stdout"
        }
      ]
    },
    {
      "metadata": {
        "_uuid": "6f982fd4232a1ecfde733c84090eaaae234d13da"
      },
      "cell_type": "markdown",
      "source": "**As almost all the features carry no useful information in either their names or values, the feature selection/engineering procedure\nwill be restricted to being applied a greedy algorithm of recursive feature elimination**"
    },
    {
      "metadata": {
        "trusted": true,
        "_uuid": "e62d94abcac03095a981d998586eb3c7f8bb894e"
      },
      "cell_type": "code",
      "source": "# Model estimation using Recursive Feature Elimination and stratified k-fold validation approach\nimport matplotlib.pyplot as plt\nfrom sklearn.model_selection import StratifiedKFold\nfrom sklearn.feature_selection import RFECV\n\nlog_reg = LogisticRegression()\nrfecv = RFECV(estimator=log_reg, step=2, cv=StratifiedKFold(5),\n              scoring='roc_auc')\nrfecv.fit(norm[inputs], y)\n\nprint(\"Optimal number of features : %d\" % rfecv.n_features_)\n\n# Plotting number of features vs. cross-validation \"roc_auc\" scores\nplt.figure()\nplt.xlabel(\"Amount of features selected\")\nplt.ylabel(\"Cross validation score\")\nplt.plot(range(1, len(rfecv.grid_scores_) + 1), rfecv.grid_scores_)\nplt.show() \nprint('Score: {} '.format(rfecv.grid_scores_.max()))",
      "execution_count": 90,
      "outputs": [
        {
          "output_type": "stream",
          "text": "Optimal number of features : 21\n",
          "name": "stdout"
        },
        {
          "output_type": "display_data",
          "data": {
            "text/plain": "<matplotlib.figure.Figure at 0x7f1ec4af26a0>",
            "image/png": "[encoded data removed]"
          },
          "metadata": {}
        },
        {
          "output_type": "stream",
          "text": "Score: 0.7967900350334263 \n",
          "name": "stdout"
        }
      ]
    },
    {
      "metadata": {
        "trusted": true,
        "_uuid": "c693d3e7f604705afe83129bdbb1af1c7a7cd929"
      },
      "cell_type": "code",
      "source": "# A bit of visualization on feature importance using XGBoost function\nfrom xgboost import XGBClassifier\nfrom xgboost import plot_importance\nfrom matplotlib import pyplot\n\nmodel = XGBClassifier()\nmodel.fit(training[inputs], y)\n# plot feature importance\nplot_importance(model)\npyplot.show()\n\n# print(model.feature_importances_)",
      "execution_count": 91,
      "outputs": [
        {
          "output_type": "display_data",
          "data": {
            "text/plain": "<matplotlib.figure.Figure at 0x7f1ec25a6d30>",
            "image/png": "[encoded data removed]"
          },
          "metadata": {}
        }
      ]
    },
    {
      "metadata": {
        "_uuid": "8c8fa094ea05dd40d60e436d09372da77ccb860a"
      },
      "cell_type": "markdown",
      "source": "# **LGBM**"
    },
    {
      "metadata": {
        "trusted": true,
        "_uuid": "c6b58613a405cbdbbbd71fcf69b2677960f75934"
      },
      "cell_type": "code",
      "source": "# For LGBM we will neither normalize features nor select or generate specific features\ndata = pd.concat([training, y], axis=1)\ntraining = data.sample(30000)\nholdout = training[:5000]\nmain = training[5000:]\ntarget = main['TARGET']\n\nmetrics = 'auc'\nlgb_params = {\n    'boosting_type': 'gbdt',\n    'objective': 'binary',\n    'metric': metrics,\n    'learning_rate': .1,\n    'num_leaves': 7,\n#   'max_depth': 4,\n#   'min_child_samples': 100,\n#   'max_bin': 100,\n#   'subsample': 0.7,\n    'subsample_freq': 1,\n#   'colsample_bytree': 0.7,\n    'min_child_weight': 0,\n    'min_split_gain': 0,\n    'nthread': 4,\n    'verbose': 1,\n    'scale_pos_weight': 1.8\n}\n\nnum_boost_round=30\n\nfrom sklearn.model_selection import train_test_split\ntrain_df, val_df, y_train, y_val = train_test_split(main, target, train_size=.8, shuffle=False, random_state=42)\nxgtrain = lgb.Dataset(train_df[inputs].values, label=y_train,\n              feature_name=inputs,\n              categorical_feature=cat_vars)\n\n\nxgvalid = lgb.Dataset(val_df[inputs].values, label=y_val,\n              feature_name=inputs,\n              categorical_feature=cat_vars)\n# gc.collect()\n\nevals_results = {}\nearly_stopping_rounds = 5\n\nmodel = lgb.train(lgb_params,\n          xgtrain,\n          valid_sets= [xgvalid],\n          valid_names=['valid'],\n          evals_result=evals_results,\n          num_boost_round=num_boost_round,\n#         early_stopping_rounds=early_stopping_rounds,\n          verbose_eval=1,\n          feval=None)\nn_estimators = model.best_iteration\n\nprint('\\nModel Info:')\nprint('n_estimators:', n_estimators)\nprint(metrics+':', evals_results['valid'][metrics][n_estimators-1])",
      "execution_count": 92,
      "outputs": [
        {
          "output_type": "stream",
          "text": "/opt/conda/lib/python3.6/site-packages/sklearn/model_selection/_split.py:2022: FutureWarning: From version 0.21, test_size will always complement train_size unless both are specified.\n  FutureWarning)\n/opt/conda/lib/python3.6/site-packages/lightgbm/basic.py:1040: UserWarning: Using categorical_feature in Dataset.\n  warnings.warn('Using categorical_feature in Dataset.')\n/opt/conda/lib/python3.6/site-packages/lightgbm/basic.py:685: UserWarning: categorical_feature in param dict is overridden.\n  warnings.warn('categorical_feature in param dict is overridden.')\n",
          "name": "stderr"
        },
        {
          "output_type": "stream",
          "text": "[1]\tvalid's auc: 0.807307\n[2]\tvalid's auc: 0.840051\n[3]\tvalid's auc: 0.864827\n[4]\tvalid's auc: 0.872037\n[5]\tvalid's auc: 0.875638\n[6]\tvalid's auc: 0.883127\n[7]\tvalid's auc: 0.891525\n[8]\tvalid's auc: 0.895804\n[9]\tvalid's auc: 0.900505\n[10]\tvalid's auc: 0.903403\n[11]\tvalid's auc: 0.905493\n[12]\tvalid's auc: 0.906952\n[13]\tvalid's auc: 0.909252\n[14]\tvalid's auc: 0.910919\n[15]\tvalid's auc: 0.913608\n[16]\tvalid's auc: 0.915749\n[17]\tvalid's auc: 0.916235\n[18]\tvalid's auc: 0.917894\n[19]\tvalid's auc: 0.918734\n[20]\tvalid's auc: 0.919832\n[21]\tvalid's auc: 0.920717\n[22]\tvalid's auc: 0.921562\n[23]\tvalid's auc: 0.923274\n[24]\tvalid's auc: 0.924924\n[25]\tvalid's auc: 0.925346\n[26]\tvalid's auc: 0.92603\n[27]\tvalid's auc: 0.926447\n[28]\tvalid's auc: 0.92719\n[29]\tvalid's auc: 0.927991\n[30]\tvalid's auc: 0.928898\n\nModel Info:\nn_estimators: 0\nauc: 0.928897939205127\n",
          "name": "stdout"
        }
      ]
    },
    {
      "metadata": {
        "trusted": true,
        "_uuid": "42b055c032ef255d212f4f5d63f688bbe6b7a4af"
      },
      "cell_type": "code",
      "source": "# model evaluation on the holdout set\ny_scores = model.predict(holdout[inputs])\ny_true = holdout['TARGET']\nfrom sklearn.metrics import roc_auc_score\nroc_auc_score(y_true, y_scores)",
      "execution_count": 93,
      "outputs": [
        {
          "output_type": "execute_result",
          "execution_count": 93,
          "data": {
            "text/plain": "0.9223276919162646"
          },
          "metadata": {}
        }
      ]
    },
    {
      "metadata": {
        "_uuid": "c6d507d8ff39a2fa0f9dd14637b2214a639861ed"
      },
      "cell_type": "markdown",
      "source": "**It is obvious that ligtgbm model showed much better roc_auc than logistic regression model**"
    },
    {
      "metadata": {
        "trusted": true,
        "collapsed": true,
        "_uuid": "c136b60ac1bc6877b32a670767fbc293add310af"
      },
      "cell_type": "code",
      "source": "# train = lgb.Dataset(training[inputs].values, label=y,\n#       feature_name=inputs)\n# num_round = 20\n# lgb.cv(lgb_params, train,  num_round, nfold=10)",
      "execution_count": 94,
      "outputs": []
    },
    {
      "metadata": {
        "trusted": true,
        "_uuid": "fa30d11d6aa0c0e52baabd22e1fc86a0e17b3ffc",
        "collapsed": true
      },
      "cell_type": "code",
      "source": "# Predicting test set\npred = pd.DataFrame()\npred['TARGET'] = model.predict(testing[inputs], num_iteration=n_estimators)\npred.to_csv('predicted.csv', index=False)",
      "execution_count": 95,
      "outputs": []
    },
    {
      "metadata": {
        "trusted": true,
        "collapsed": true,
        "_uuid": "d908f4ca396d3a9d91836986bc9f574aea3731de"
      },
      "cell_type": "code",
      "source": "",
      "execution_count": null,
      "outputs": []
    }
  ],
  "metadata": {
    "kernelspec": {
      "display_name": "Python 3",
      "language": "python",
      "name": "python3"
    },
    "language_info": {
      "name": "python",
      "version": "3.6.6",
      "mimetype": "text/x-python",
      "codemirror_mode": {
        "name": "ipython",
        "version": 3
      },
      "pygments_lexer": "ipython3",
      "nbconvert_exporter": "python",
      "file_extension": ".py"
    }
  },
  "nbformat": 4,
  "nbformat_minor": 1
}
