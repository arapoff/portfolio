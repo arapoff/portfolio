{
 "cells": [
  {
   "cell_type": "markdown",
   "metadata": {
    "_cell_guid": "ade90dfe-0b07-4284-aa3a-4e50b7c9abef",
    "_uuid": "bff97aedda437534d014ead3a551ffb502cf53e6"
   },
   "source": [
    "** Гипотеза 1**.\n",
    " \"Мужчины пропускают в течение года более 2 рабочих дней по болезни значимо чаще женщин\". "
   ]
  },
  {
   "cell_type": "code",
   "execution_count": 1,
   "metadata": {
    "_cell_guid": "b1076dfc-b9ad-4769-8c92-a6c4dae69d19",
    "_uuid": "8f2839f25d086af736a60e9eeb907d3b93b6e0e5"
   },
   "outputs": [
    {
     "data": {
      "text/html": [
       "<div>\n",
       "<style>\n",
       "    .dataframe thead tr:only-child th {\n",
       "        text-align: right;\n",
       "    }\n",
       "\n",
       "    .dataframe thead th {\n",
       "        text-align: left;\n",
       "    }\n",
       "\n",
       "    .dataframe tbody tr th {\n",
       "        vertical-align: top;\n",
       "    }\n",
       "</style>\n",
       "<table border=\"1\" class=\"dataframe\">\n",
       "  <thead>\n",
       "    <tr style=\"text-align: right;\">\n",
       "      <th></th>\n",
       "      <th>Количество больничных дней</th>\n",
       "      <th>Возраст</th>\n",
       "      <th>Пол</th>\n",
       "    </tr>\n",
       "  </thead>\n",
       "  <tbody>\n",
       "    <tr>\n",
       "      <th>0</th>\n",
       "      <td>5</td>\n",
       "      <td>39</td>\n",
       "      <td>Ж</td>\n",
       "    </tr>\n",
       "    <tr>\n",
       "      <th>1</th>\n",
       "      <td>4</td>\n",
       "      <td>54</td>\n",
       "      <td>М</td>\n",
       "    </tr>\n",
       "    <tr>\n",
       "      <th>2</th>\n",
       "      <td>4</td>\n",
       "      <td>26</td>\n",
       "      <td>М</td>\n",
       "    </tr>\n",
       "    <tr>\n",
       "      <th>3</th>\n",
       "      <td>5</td>\n",
       "      <td>42</td>\n",
       "      <td>М</td>\n",
       "    </tr>\n",
       "    <tr>\n",
       "      <th>4</th>\n",
       "      <td>4</td>\n",
       "      <td>29</td>\n",
       "      <td>М</td>\n",
       "    </tr>\n",
       "  </tbody>\n",
       "</table>\n",
       "</div>"
      ],
      "text/plain": [
       "   Количество больничных дней  Возраст Пол\n",
       "0                           5       39   Ж\n",
       "1                           4       54   М\n",
       "2                           4       26   М\n",
       "3                           5       42   М\n",
       "4                           4       29   М"
      ]
     },
     "execution_count": 1,
     "metadata": {},
     "output_type": "execute_result"
    }
   ],
   "source": [
    "import pandas as pd\n",
    "import matplotlib\n",
    "%matplotlib inline\n",
    "import seaborn as sb\n",
    "\n",
    "df = pd.read_csv('../input/data1.csv', encoding=\"windows-1251\")\n",
    "# df.rename(columns = {'Количество больничных дней': 'Sick leaves', 'Возраст': 'Age', 'Пол': 'Gender' }, inplace = True)\n",
    "df.head()"
   ]
  },
  {
   "cell_type": "code",
   "execution_count": 2,
   "metadata": {
    "_cell_guid": "63087c89-0780-4fc5-b4c9-21daf86b8e17",
    "_uuid": "eb931bdb24e8b19a1b408d8a67af0c1adfd4b77c"
   },
   "outputs": [
    {
     "name": "stdout",
     "output_type": "stream",
     "text": [
      "М    139\n",
      "Ж     98\n",
      "Name: Пол, dtype: int64\n"
     ]
    }
   ],
   "source": [
    "# Distribution of males and females differ from each other in the dataset\n",
    "print(df['Пол'].value_counts())"
   ]
  },
  {
   "cell_type": "code",
   "execution_count": 3,
   "metadata": {
    "_cell_guid": "c2edd091-8039-4676-b967-caa22643467a",
    "_uuid": "d41d67812d4e80d79d789385806fa2c7b216bdfa"
   },
   "outputs": [
    {
     "name": "stdout",
     "output_type": "stream",
     "text": [
      "(196, 3)\n"
     ]
    }
   ],
   "source": [
    "# First off we need to conduct a simple Random Sampling to equalize amount of males and females in number. \n",
    "males = df[df['Пол']=='М'].sample(98)\n",
    "females = df[df['Пол']=='Ж']\n",
    "frames = [males, females]\n",
    "people = pd.concat(frames)\n",
    "print (people.shape)"
   ]
  },
  {
   "cell_type": "code",
   "execution_count": 4,
   "metadata": {
    "_cell_guid": "79c7e3d0-c299-4dcb-8224-4455121ee9b0",
    "_uuid": "d629ff2d2480ee46fbb7e2d37f6b5fab8052498a"
   },
   "outputs": [
    {
     "name": "stdout",
     "output_type": "stream",
     "text": [
      "Ж    67\n",
      "М    55\n",
      "Name: Пол, dtype: int64\n"
     ]
    },
    {
     "data": {
      "image/png": "[encoded data removed]",
      "text/plain": [
       "<matplotlib.figure.Figure at 0x7fb24cec52b0>"
      ]
     },
     "metadata": {},
     "output_type": "display_data"
    }
   ],
   "source": [
    "# Curiously enough, according to the following histogram, it is actually females who exceed males in the frequency of over 2 sick leaves.\n",
    "# However, according to the T-test in the following cells, the histogram cannot be proved statistically.\n",
    "data = people[people['Количество больничных дней']>2]\n",
    "data['Пол'].value_counts().plot.bar()\n",
    "print(data['Пол'].value_counts())"
   ]
  },
  {
   "cell_type": "code",
   "execution_count": 5,
   "metadata": {
    "_cell_guid": "82a53875-6c5b-4c8c-af99-ea6cc5dc229b",
    "_uuid": "b05f2274fc8a4b4cf2c2f267d900f299c71e2b71"
   },
   "outputs": [
    {
     "data": {
      "text/html": [
       "<div>\n",
       "<style>\n",
       "    .dataframe thead tr:only-child th {\n",
       "        text-align: right;\n",
       "    }\n",
       "\n",
       "    .dataframe thead th {\n",
       "        text-align: left;\n",
       "    }\n",
       "\n",
       "    .dataframe tbody tr th {\n",
       "        vertical-align: top;\n",
       "    }\n",
       "</style>\n",
       "<table border=\"1\" class=\"dataframe\">\n",
       "  <thead>\n",
       "    <tr>\n",
       "      <th></th>\n",
       "      <th colspan=\"8\" halign=\"left\">Возраст</th>\n",
       "      <th colspan=\"8\" halign=\"left\">Количество больничных дней</th>\n",
       "    </tr>\n",
       "    <tr>\n",
       "      <th></th>\n",
       "      <th>count</th>\n",
       "      <th>mean</th>\n",
       "      <th>std</th>\n",
       "      <th>min</th>\n",
       "      <th>25%</th>\n",
       "      <th>50%</th>\n",
       "      <th>75%</th>\n",
       "      <th>max</th>\n",
       "      <th>count</th>\n",
       "      <th>mean</th>\n",
       "      <th>std</th>\n",
       "      <th>min</th>\n",
       "      <th>25%</th>\n",
       "      <th>50%</th>\n",
       "      <th>75%</th>\n",
       "      <th>max</th>\n",
       "    </tr>\n",
       "    <tr>\n",
       "      <th>Пол</th>\n",
       "      <th></th>\n",
       "      <th></th>\n",
       "      <th></th>\n",
       "      <th></th>\n",
       "      <th></th>\n",
       "      <th></th>\n",
       "      <th></th>\n",
       "      <th></th>\n",
       "      <th></th>\n",
       "      <th></th>\n",
       "      <th></th>\n",
       "      <th></th>\n",
       "      <th></th>\n",
       "      <th></th>\n",
       "      <th></th>\n",
       "      <th></th>\n",
       "    </tr>\n",
       "  </thead>\n",
       "  <tbody>\n",
       "    <tr>\n",
       "      <th>Ж</th>\n",
       "      <td>67.0</td>\n",
       "      <td>40.029851</td>\n",
       "      <td>6.457249</td>\n",
       "      <td>23.0</td>\n",
       "      <td>36.0</td>\n",
       "      <td>40.0</td>\n",
       "      <td>44.5</td>\n",
       "      <td>55.0</td>\n",
       "      <td>67.0</td>\n",
       "      <td>4.238806</td>\n",
       "      <td>1.268375</td>\n",
       "      <td>3.0</td>\n",
       "      <td>3.0</td>\n",
       "      <td>4.0</td>\n",
       "      <td>5.0</td>\n",
       "      <td>8.0</td>\n",
       "    </tr>\n",
       "    <tr>\n",
       "      <th>М</th>\n",
       "      <td>55.0</td>\n",
       "      <td>40.072727</td>\n",
       "      <td>6.716080</td>\n",
       "      <td>23.0</td>\n",
       "      <td>36.0</td>\n",
       "      <td>42.0</td>\n",
       "      <td>45.0</td>\n",
       "      <td>52.0</td>\n",
       "      <td>55.0</td>\n",
       "      <td>4.309091</td>\n",
       "      <td>1.538069</td>\n",
       "      <td>3.0</td>\n",
       "      <td>3.0</td>\n",
       "      <td>4.0</td>\n",
       "      <td>5.0</td>\n",
       "      <td>8.0</td>\n",
       "    </tr>\n",
       "  </tbody>\n",
       "</table>\n",
       "</div>"
      ],
      "text/plain": [
       "    Возраст                                                     \\\n",
       "      count       mean       std   min   25%   50%   75%   max   \n",
       "Пол                                                              \n",
       "Ж      67.0  40.029851  6.457249  23.0  36.0  40.0  44.5  55.0   \n",
       "М      55.0  40.072727  6.716080  23.0  36.0  42.0  45.0  52.0   \n",
       "\n",
       "    Количество больничных дней                                               \n",
       "                         count      mean       std  min  25%  50%  75%  max  \n",
       "Пол                                                                          \n",
       "Ж                         67.0  4.238806  1.268375  3.0  3.0  4.0  5.0  8.0  \n",
       "М                         55.0  4.309091  1.538069  3.0  3.0  4.0  5.0  8.0  "
      ]
     },
     "execution_count": 5,
     "metadata": {},
     "output_type": "execute_result"
    }
   ],
   "source": [
    "# We don`t observe any outliers\n",
    "data.groupby(['Пол']).describe()"
   ]
  },
  {
   "cell_type": "markdown",
   "metadata": {
    "_uuid": "7cb9c32da66fb42298c419c8f95f329c9417c672"
   },
   "source": [
    "**According to Fisher`s exact test, given such a great p-value we cannot reject the null hypothesis\n",
    "\n",
    "Hence, the hypothesis that Males more often have 2 Sick leaves than females cannot be supported.**"
   ]
  },
  {
   "cell_type": "code",
   "execution_count": 7,
   "metadata": {
    "_cell_guid": "df51aab1-da8b-4705-ae70-e09d9d0c5154",
    "_uuid": "66e27c7a74df19342790635ef1c39e0601c57f5c"
   },
   "outputs": [
    {
     "data": {
      "text/plain": [
       "0.59248987708818834"
      ]
     },
     "execution_count": 7,
     "metadata": {},
     "output_type": "execute_result"
    }
   ],
   "source": [
    "'''\n",
    "H0: Males do not have 2 Sick leaves more often than females.\n",
    "H1: Males more often have 2 Sick leaves than females.\n",
    "'''\n",
    "import scipy.stats as stats\n",
    "oddsratio, pvalue = stats.fisher_exact([[67, 55], [61, 43]])\n",
    "pvalue"
   ]
  },
  {
   "cell_type": "code",
   "execution_count": 8,
   "metadata": {
    "_cell_guid": "e6fda722-19ba-4bca-92cf-d495745c5efd",
    "_uuid": "b20c749959986a12d43570158f5a8943ab3b69e5"
   },
   "outputs": [
    {
     "data": {
      "text/html": [
       "<div>\n",
       "<style>\n",
       "    .dataframe thead tr:only-child th {\n",
       "        text-align: right;\n",
       "    }\n",
       "\n",
       "    .dataframe thead th {\n",
       "        text-align: left;\n",
       "    }\n",
       "\n",
       "    .dataframe tbody tr th {\n",
       "        vertical-align: top;\n",
       "    }\n",
       "</style>\n",
       "<table border=\"1\" class=\"dataframe\">\n",
       "  <thead>\n",
       "    <tr>\n",
       "      <th></th>\n",
       "      <th colspan=\"8\" halign=\"left\">Возраст</th>\n",
       "      <th colspan=\"8\" halign=\"left\">Количество больничных дней</th>\n",
       "    </tr>\n",
       "    <tr>\n",
       "      <th></th>\n",
       "      <th>count</th>\n",
       "      <th>mean</th>\n",
       "      <th>std</th>\n",
       "      <th>min</th>\n",
       "      <th>25%</th>\n",
       "      <th>50%</th>\n",
       "      <th>75%</th>\n",
       "      <th>max</th>\n",
       "      <th>count</th>\n",
       "      <th>mean</th>\n",
       "      <th>std</th>\n",
       "      <th>min</th>\n",
       "      <th>25%</th>\n",
       "      <th>50%</th>\n",
       "      <th>75%</th>\n",
       "      <th>max</th>\n",
       "    </tr>\n",
       "    <tr>\n",
       "      <th>Пол</th>\n",
       "      <th></th>\n",
       "      <th></th>\n",
       "      <th></th>\n",
       "      <th></th>\n",
       "      <th></th>\n",
       "      <th></th>\n",
       "      <th></th>\n",
       "      <th></th>\n",
       "      <th></th>\n",
       "      <th></th>\n",
       "      <th></th>\n",
       "      <th></th>\n",
       "      <th></th>\n",
       "      <th></th>\n",
       "      <th></th>\n",
       "      <th></th>\n",
       "    </tr>\n",
       "  </thead>\n",
       "  <tbody>\n",
       "    <tr>\n",
       "      <th>Ж</th>\n",
       "      <td>98.0</td>\n",
       "      <td>40.581633</td>\n",
       "      <td>6.999151</td>\n",
       "      <td>23.0</td>\n",
       "      <td>36.0</td>\n",
       "      <td>41.0</td>\n",
       "      <td>45.0</td>\n",
       "      <td>60.0</td>\n",
       "      <td>98.0</td>\n",
       "      <td>3.367347</td>\n",
       "      <td>1.689188</td>\n",
       "      <td>0.0</td>\n",
       "      <td>2.0</td>\n",
       "      <td>3.0</td>\n",
       "      <td>4.0</td>\n",
       "      <td>8.0</td>\n",
       "    </tr>\n",
       "    <tr>\n",
       "      <th>М</th>\n",
       "      <td>98.0</td>\n",
       "      <td>39.846939</td>\n",
       "      <td>6.593267</td>\n",
       "      <td>23.0</td>\n",
       "      <td>36.0</td>\n",
       "      <td>41.0</td>\n",
       "      <td>44.0</td>\n",
       "      <td>53.0</td>\n",
       "      <td>98.0</td>\n",
       "      <td>3.051020</td>\n",
       "      <td>1.896130</td>\n",
       "      <td>0.0</td>\n",
       "      <td>2.0</td>\n",
       "      <td>3.0</td>\n",
       "      <td>4.0</td>\n",
       "      <td>8.0</td>\n",
       "    </tr>\n",
       "  </tbody>\n",
       "</table>\n",
       "</div>"
      ],
      "text/plain": [
       "    Возраст                                                     \\\n",
       "      count       mean       std   min   25%   50%   75%   max   \n",
       "Пол                                                              \n",
       "Ж      98.0  40.581633  6.999151  23.0  36.0  41.0  45.0  60.0   \n",
       "М      98.0  39.846939  6.593267  23.0  36.0  41.0  44.0  53.0   \n",
       "\n",
       "    Количество больничных дней                                               \n",
       "                         count      mean       std  min  25%  50%  75%  max  \n",
       "Пол                                                                          \n",
       "Ж                         98.0  3.367347  1.689188  0.0  2.0  3.0  4.0  8.0  \n",
       "М                         98.0  3.051020  1.896130  0.0  2.0  3.0  4.0  8.0  "
      ]
     },
     "execution_count": 8,
     "metadata": {},
     "output_type": "execute_result"
    }
   ],
   "source": [
    "'''Alternative method using T-test for a new hypothesis.'''\n",
    "people.groupby(['Пол']).describe()"
   ]
  },
  {
   "cell_type": "code",
   "execution_count": 9,
   "metadata": {
    "_cell_guid": "eea814ee-4da9-43af-98ed-da6b40e222a6",
    "_uuid": "208db6fd2c8264cdca40793b4dd94332aefbb3e5",
    "collapsed": true
   },
   "outputs": [],
   "source": [
    "males_days = males['Количество больничных дней']\n",
    "females_days = females['Количество больничных дней']"
   ]
  },
  {
   "cell_type": "code",
   "execution_count": 10,
   "metadata": {
    "_cell_guid": "caef7787-89f5-4ce7-805c-ade48a790f77",
    "_uuid": "1153cc717a16cf7e6d83b4ffe12ee990fa52e212"
   },
   "outputs": [
    {
     "data": {
      "text/plain": [
       "Ttest_indResult(statistic=-1.2331439636841741, pvalue=0.21901415858249168)"
      ]
     },
     "execution_count": 10,
     "metadata": {},
     "output_type": "execute_result"
    }
   ],
   "source": [
    "'''We can`t reject null hypothesis of equal means, as T-test supports Fisher`s exact test findings in seeing no significant difference \n",
    "between male and female groups on the amount of 'Sick leaves'.'''\n",
    "from scipy import stats\n",
    "stats.ttest_ind(males_days, females_days)"
   ]
  },
  {
   "cell_type": "markdown",
   "metadata": {
    "_cell_guid": "f969a880-624a-43aa-9ae0-d258ecf188a4",
    "_uuid": "9c61869600ba35b48b77f76369bcd803873f7849",
    "collapsed": true
   },
   "source": [
    "**Гипотеза 2.**\n",
    "\"Работники старше 35 лет пропускают в течение года более 2 рабочих дней по болезни значимо чаще своих более молодых коллег\"."
   ]
  },
  {
   "cell_type": "code",
   "execution_count": 12,
   "metadata": {
    "_cell_guid": "c2f0d34b-9379-4325-b17b-15297a765215",
    "_uuid": "398ef052986cab327d53b3fa0bcc0aab88f8a677"
   },
   "outputs": [
    {
     "data": {
      "text/plain": [
       "46"
      ]
     },
     "execution_count": 12,
     "metadata": {},
     "output_type": "execute_result"
    }
   ],
   "source": [
    "# Number of people under 35 years of age\n",
    "df[df['Возраст']<35]['Возраст'].count()"
   ]
  },
  {
   "cell_type": "code",
   "execution_count": 14,
   "metadata": {
    "_cell_guid": "0a836fb8-7d28-4d2b-97e8-e472d3ead443",
    "_uuid": "cb603787b83d2f52326a9205d1c6cdf3040b2c95"
   },
   "outputs": [],
   "source": [
    "# Random Sampling to equalize amount of males and females in number. \n",
    "old = df[df['Возраст']>35].sample(46)\n",
    "young = df[df['Возраст']<35]\n",
    "values = [old, young]\n",
    "results = pd.concat(values)"
   ]
  },
  {
   "cell_type": "code",
   "execution_count": 16,
   "metadata": {
    "_cell_guid": "d4867aa9-9bd9-4e40-8298-e83314c620a6",
    "_uuid": "aea91514b887f1438d35aaf9eb7156b182908a0f"
   },
   "outputs": [
    {
     "name": "stdout",
     "output_type": "stream",
     "text": [
      "26\n",
      "31\n"
     ]
    }
   ],
   "source": [
    "print(old[old['Количество больничных дней']>2]['Количество больничных дней'].count())\n",
    "print(young[young['Количество больничных дней']>2]['Количество больничных дней'].count())"
   ]
  },
  {
   "cell_type": "markdown",
   "metadata": {
    "_uuid": "4e57432d158461de5ccff7d519f6faf950b8289f"
   },
   "source": [
    "According to Fisher`s exact test, given such a high p-value, we cannot reject the null hypothesis.\n",
    "Hence the alternative hyporthesis that employees over 35 years of age have a higher frequency of \n",
    "having more than 2 sick leaves than their younger colleagues can be rejected."
   ]
  },
  {
   "cell_type": "code",
   "execution_count": 18,
   "metadata": {
    "_cell_guid": "40620b23-bba3-4d0e-a908-1cb42977e4bd",
    "_uuid": "c32fb4bd4ea36180335cffe588d280859d56f6d8"
   },
   "outputs": [
    {
     "data": {
      "text/plain": [
       "0.28010813291917058"
      ]
     },
     "execution_count": 18,
     "metadata": {},
     "output_type": "execute_result"
    }
   ],
   "source": [
    "'''\n",
    "H0: Employees over 35 years of age do not differ in the frequency of having more than 2 sick leaves than their younger colleagues. \n",
    "H1: Employees over 35 years of age have a higher frequency of having more than 2 sick leaves than their younger colleagues.\n",
    "'''\n",
    "odds, p_value = stats.fisher_exact([[26, 20], [31, 14]])\n",
    "p_value"
   ]
  }
 ],
 "metadata": {
  "kernelspec": {
   "display_name": "Python 3",
   "language": "python",
   "name": "python3"
  },
  "language_info": {
   "codemirror_mode": {
    "name": "ipython",
    "version": 3
   },
   "file_extension": ".py",
   "mimetype": "text/x-python",
   "name": "python",
   "nbconvert_exporter": "python",
   "pygments_lexer": "ipython3",
   "version": "3.6.2"
  }
 },
 "nbformat": 4,
 "nbformat_minor": 1
}
